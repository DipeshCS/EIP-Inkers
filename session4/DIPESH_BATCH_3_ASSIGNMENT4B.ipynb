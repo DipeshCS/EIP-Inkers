{
  "nbformat": 4,
  "nbformat_minor": 0,
  "metadata": {
    "colab": {
      "name": "DIPESH_BATCH_3_ASSIGNMENT4B_Final.ipynb",
      "version": "0.3.2",
      "views": {},
      "default_view": {},
      "provenance": [
        {
          "file_id": "1pFn0wvWOKj93A4_-pjMxsxR96VDyN-NF",
          "timestamp": 1525344661935
        },
        {
          "file_id": "1_1kwmwgL7g94jI6BEtcgm-D2_AFk0zxK",
          "timestamp": 1519101209834
        }
      ]
    },
    "kernelspec": {
      "name": "python3",
      "display_name": "Python 3"
    },
    "accelerator": "GPU"
  },
  "cells": [
    {
      "metadata": {
        "id": "K70hAckqg0EA",
        "colab_type": "code",
        "colab": {
          "autoexec": {
            "startup": false,
            "wait_interval": 0
          }
        }
      },
      "cell_type": "code",
      "source": [
        "# https://keras.io/\n",
        "!pip install -q keras\n",
        "import keras"
      ],
      "execution_count": 0,
      "outputs": []
    },
    {
      "metadata": {
        "id": "wVIx_KIigxPV",
        "colab_type": "code",
        "colab": {
          "autoexec": {
            "startup": false,
            "wait_interval": 0
          }
        }
      },
      "cell_type": "code",
      "source": [
        "import keras\n",
        "import scipy\n",
        "from numpy import array\n",
        "from keras.datasets import cifar10\n",
        "from keras.models import Model, Sequential\n",
        "from keras.layers import Dense, Dropout, Flatten, Input, merge, Activation \n",
        "from keras.layers import Conv2D, Concatenate, BatchNormalization\n",
        "from keras.layers import MaxPooling2D, AveragePooling2D, SeparableConv2D, GlobalAveragePooling2D\n",
        "from keras.optimizers import Adam\n",
        "from google.colab import files\n",
        "from keras.preprocessing.image import ImageDataGenerator"
      ],
      "execution_count": 0,
      "outputs": []
    },
    {
      "metadata": {
        "id": "UNHw6luQg3gc",
        "colab_type": "code",
        "colab": {
          "autoexec": {
            "startup": false,
            "wait_interval": 0
          }
        }
      },
      "cell_type": "code",
      "source": [
        "# this part will prevent tensorflow to allocate all the avaliable GPU Memory\n",
        "# backend\n",
        "import tensorflow as tf\n",
        "from keras import backend as k\n",
        "\n",
        "# Don't pre-allocate memory; allocate as-needed\n",
        "config = tf.ConfigProto()\n",
        "config.gpu_options.allow_growth = True\n",
        "\n",
        "# Create a session with the above options specified.\n",
        "k.tensorflow_backend.set_session(tf.Session(config=config))"
      ],
      "execution_count": 0,
      "outputs": []
    },
    {
      "metadata": {
        "id": "dsO_yGxcg5D8",
        "colab_type": "code",
        "colab": {
          "autoexec": {
            "startup": false,
            "wait_interval": 0
          }
        }
      },
      "cell_type": "code",
      "source": [
        "# Hyperparameters\n",
        "batch_size = 64\n",
        "num_classes = 10\n",
        "epochs = 50\n",
        "l = 12  # #layers_per_block(12) = (depth(40) - (total_blocks(3) + 1)) / total_blocks(3). It will further divided by 2 in case of DenseNet-BC\"\n",
        "num_filter = 24\n",
        "compression = 0.5\n",
        "dropout_rate = 0.2"
      ],
      "execution_count": 0,
      "outputs": []
    },
    {
      "metadata": {
        "id": "mB7o3zu1g6eT",
        "colab_type": "code",
        "colab": {
          "autoexec": {
            "startup": false,
            "wait_interval": 0
          }
        }
      },
      "cell_type": "code",
      "source": [
        "# Load CIFAR10 Data\n",
        "(x_train, y_train), (x_test, y_test) = cifar10.load_data()\n",
        "img_height, img_width, channel = x_train.shape[1],x_train.shape[2],x_train.shape[3]\n"
      ],
      "execution_count": 0,
      "outputs": []
    },
    {
      "metadata": {
        "id": "SpscT4nozYSr",
        "colab_type": "code",
        "colab": {
          "autoexec": {
            "startup": false,
            "wait_interval": 0
          },
          "base_uri": "https://localhost:8080/",
          "height": 122
        },
        "outputId": "d1d2780c-3e30-406c-f8b4-10c5f3bca769",
        "executionInfo": {
          "status": "ok",
          "timestamp": 1526358231287,
          "user_tz": -330,
          "elapsed": 14070,
          "user": {
            "displayName": "Dipesh Patel",
            "photoUrl": "//lh3.googleusercontent.com/-MZFsrKc3QxQ/AAAAAAAAAAI/AAAAAAAAAAo/7gSl7u-epEM/s50-c-k-no/photo.jpg",
            "userId": "112104547976055991892"
          }
        }
      },
      "cell_type": "code",
      "source": [
        "\n",
        "x_train = x_train.astype('float32')\n",
        "x_test = x_test.astype('float32')\n",
        "x_train /= 255\n",
        "x_test /= 255\n",
        "\n",
        "x_train_resized = array([scipy.misc.imresize(image, (24,24,3)) for image in x_train])\n",
        "x_test_resized = array([scipy.misc.imresize(image, (24,24,3)) for image in x_test])\n",
        "print(x_test_resized.shape)\n",
        "# convert to one hot encoing \n",
        "y_train = keras.utils.to_categorical(y_train, num_classes)\n",
        "y_test = keras.utils.to_categorical(y_test, num_classes)"
      ],
      "execution_count": 0,
      "outputs": [
        {
          "output_type": "stream",
          "text": [
            "/usr/local/lib/python3.6/dist-packages/scipy/misc/pilutil.py:482: FutureWarning: Conversion of the second argument of issubdtype from `int` to `np.signedinteger` is deprecated. In future, it will be treated as `np.int64 == np.dtype(int).type`.\n",
            "  if issubdtype(ts, int):\n",
            "/usr/local/lib/python3.6/dist-packages/scipy/misc/pilutil.py:485: FutureWarning: Conversion of the second argument of issubdtype from `float` to `np.floating` is deprecated. In future, it will be treated as `np.float64 == np.dtype(float).type`.\n",
            "  elif issubdtype(type(size), float):\n"
          ],
          "name": "stderr"
        },
        {
          "output_type": "stream",
          "text": [
            "(10000, 24, 24, 3)\n"
          ],
          "name": "stdout"
        }
      ]
    },
    {
      "metadata": {
        "id": "b4nUhu0nEi-q",
        "colab_type": "code",
        "colab": {
          "autoexec": {
            "startup": false,
            "wait_interval": 0
          }
        }
      },
      "cell_type": "code",
      "source": [
        "# Data Augmentation on CIFAR-10 (Source : https://github.com/keras-team/keras/blob/master/examples/cifar10_cnn.py)\n",
        "datagen = ImageDataGenerator(\n",
        "    featurewise_center=False,  # set input mean to 0 over the dataset\n",
        "    samplewise_center=False,  # set each sample mean to 0\n",
        "    featurewise_std_normalization=False,  # divide inputs by std of the dataset\n",
        "    samplewise_std_normalization=False,  # divide each input by its std\n",
        "    zca_whitening=False,  # apply ZCA whitening\n",
        "    rotation_range=0,  # randomly rotate images in the range (degrees, 0 to 180)\n",
        "    width_shift_range=0.1,  # randomly shift images horizontally (fraction of total width)\n",
        "    height_shift_range=0.1,  # randomly shift images vertically (fraction of total height)\n",
        "    horizontal_flip=True,  # randomly flip images\n",
        "    vertical_flip=False)  # randomly flip images\n",
        "\n",
        "\n",
        "datagen.fit(x_train)\n",
        "datagen.fit(x_train_resized)"
      ],
      "execution_count": 0,
      "outputs": []
    },
    {
      "metadata": {
        "id": "ee-sge5Kg7vr",
        "colab_type": "code",
        "colab": {
          "autoexec": {
            "startup": false,
            "wait_interval": 0
          }
        },
        "cellView": "code"
      },
      "cell_type": "code",
      "source": [
        "# Dense Block with RMSA kernel Initializer\n",
        "def add_denseblock(input, num_filter = 12, dropout_rate = 0.2):\n",
        "    global compression\n",
        "    temp = input\n",
        "    for _ in range(l):\n",
        "\n",
        "# Bottlenack layer with compression in dense block. Accuracy : 81.21\n",
        "\n",
        "#         BatchNorm = BatchNormalization()(temp)\n",
        "#         relu = Activation('relu')(BatchNorm)\n",
        "#         Conv2D_1_1 = Conv2D(int(num_filter*compression), (1,1), use_bias=False ,padding='valid', kernel_initializer='VarianceScaling')(relu)\n",
        "#         if dropout_rate>0:\n",
        "#           Conv2D_1_1 = Dropout(dropout_rate)(Conv2D_1_1)\n",
        "        BatchNorm = BatchNormalization()(temp)\n",
        "        relu = Activation('relu')(BatchNorm)\n",
        "\n",
        "# Tried Depthwise Separable Convolution in place of Conv2D. Accuracy : 71.43\n",
        "\n",
        "        # Removed Compression from 3*3 Conv2D.\n",
        "        Conv2D_3_3 = Conv2D(int(num_filter*compression), (3,3), use_bias=False ,padding='same', kernel_initializer='VarianceScaling')(relu)\n",
        "        if dropout_rate>0:\n",
        "          Conv2D_3_3 = Dropout(dropout_rate)(Conv2D_3_3)\n",
        "        concat = Concatenate(axis=-1)([temp,Conv2D_3_3])\n",
        "        \n",
        "        temp = concat\n",
        "        \n",
        "    return temp"
      ],
      "execution_count": 0,
      "outputs": []
    },
    {
      "metadata": {
        "id": "OOP6IPsGhBwb",
        "colab_type": "code",
        "colab": {
          "autoexec": {
            "startup": false,
            "wait_interval": 0
          }
        }
      },
      "cell_type": "code",
      "source": [
        "def add_transition(input, num_filter = 12, dropout_rate = 0.2):\n",
        "    global compression\n",
        "    BatchNorm = BatchNormalization()(input)\n",
        "    relu = Activation('relu')(BatchNorm)\n",
        "    Conv2D_BottleNeck = Conv2D(int(num_filter*compression), (1,1), use_bias=False ,padding='same', kernel_initializer='VarianceScaling')(relu)\n",
        "    if dropout_rate>0:\n",
        "      Conv2D_BottleNeck = Dropout(dropout_rate)(Conv2D_BottleNeck)\n",
        "    avg = AveragePooling2D(pool_size=(2,2),strides=2)(Conv2D_BottleNeck)\n",
        "    \n",
        "    return avg"
      ],
      "execution_count": 0,
      "outputs": []
    },
    {
      "metadata": {
        "id": "0RaKFpubhDIC",
        "colab_type": "code",
        "colab": {
          "autoexec": {
            "startup": false,
            "wait_interval": 0
          }
        }
      },
      "cell_type": "code",
      "source": [
        "def output_layer(input):\n",
        "    global compression\n",
        "    BatchNorm = BatchNormalization()(input)\n",
        "    relu = Activation('relu')(BatchNorm)\n",
        "    AvgPooling = GlobalAveragePooling2D()(relu)\n",
        "    #flat = Flatten()(AvgPooling)\n",
        "    output = Dense(num_classes, activation='softmax')(AvgPooling)\n",
        "    \n",
        "    return output"
      ],
      "execution_count": 0,
      "outputs": []
    },
    {
      "metadata": {
        "id": "anPCpQWhhGb7",
        "colab_type": "code",
        "colab": {
          "autoexec": {
            "startup": false,
            "wait_interval": 0
          }
        }
      },
      "cell_type": "code",
      "source": [
        "num_filter = 24\n",
        "dropout_rate = 0.2\n",
        "l = 12\n",
        "input = Input(shape=(None, None, channel,))\n",
        "First_Conv2D = Conv2D(2*num_filter, (3,3), use_bias=False ,padding='same', kernel_initializer='VarianceScaling')(input)\n",
        "\n",
        "First_Block = add_denseblock(First_Conv2D, num_filter, dropout_rate)\n",
        "First_Transition = add_transition(First_Block, num_filter, dropout_rate)\n",
        "\n",
        "Second_Block = add_denseblock(First_Transition, num_filter, dropout_rate)\n",
        "Second_Transition = add_transition(Second_Block, num_filter, dropout_rate)\n",
        "\n",
        "Third_Block = add_denseblock(Second_Transition, num_filter, dropout_rate)\n",
        "Third_Transition = add_transition(Third_Block, num_filter, dropout_rate)\n",
        "\n",
        "Last_Block = add_denseblock(Third_Transition,  num_filter, dropout_rate)\n",
        "output = output_layer(Last_Block)\n"
      ],
      "execution_count": 0,
      "outputs": []
    },
    {
      "metadata": {
        "id": "1kFh7pdxhNtT",
        "colab_type": "code",
        "colab": {
          "autoexec": {
            "startup": false,
            "wait_interval": 0
          },
          "base_uri": "https://localhost:8080/",
          "height": 9826
        },
        "outputId": "5360246c-22ff-485a-86d2-009bba4ddfbd",
        "executionInfo": {
          "status": "ok",
          "timestamp": 1526358245140,
          "user_tz": -330,
          "elapsed": 1315,
          "user": {
            "displayName": "Dipesh Patel",
            "photoUrl": "//lh3.googleusercontent.com/-MZFsrKc3QxQ/AAAAAAAAAAI/AAAAAAAAAAo/7gSl7u-epEM/s50-c-k-no/photo.jpg",
            "userId": "112104547976055991892"
          }
        }
      },
      "cell_type": "code",
      "source": [
        "model = Model(inputs=[input], outputs=[output])\n",
        "model.summary()"
      ],
      "execution_count": 0,
      "outputs": [
        {
          "output_type": "stream",
          "text": [
            "__________________________________________________________________________________________________\n",
            "Layer (type)                    Output Shape         Param #     Connected to                     \n",
            "==================================================================================================\n",
            "input_2 (InputLayer)            (None, None, None, 3 0                                            \n",
            "__________________________________________________________________________________________________\n",
            "conv2d_53 (Conv2D)              (None, None, None, 4 1296        input_2[0][0]                    \n",
            "__________________________________________________________________________________________________\n",
            "batch_normalization_53 (BatchNo (None, None, None, 4 192         conv2d_53[0][0]                  \n",
            "__________________________________________________________________________________________________\n",
            "activation_53 (Activation)      (None, None, None, 4 0           batch_normalization_53[0][0]     \n",
            "__________________________________________________________________________________________________\n",
            "conv2d_54 (Conv2D)              (None, None, None, 1 5184        activation_53[0][0]              \n",
            "__________________________________________________________________________________________________\n",
            "dropout_52 (Dropout)            (None, None, None, 1 0           conv2d_54[0][0]                  \n",
            "__________________________________________________________________________________________________\n",
            "concatenate_49 (Concatenate)    (None, None, None, 6 0           conv2d_53[0][0]                  \n",
            "                                                                 dropout_52[0][0]                 \n",
            "__________________________________________________________________________________________________\n",
            "batch_normalization_54 (BatchNo (None, None, None, 6 240         concatenate_49[0][0]             \n",
            "__________________________________________________________________________________________________\n",
            "activation_54 (Activation)      (None, None, None, 6 0           batch_normalization_54[0][0]     \n",
            "__________________________________________________________________________________________________\n",
            "conv2d_55 (Conv2D)              (None, None, None, 1 6480        activation_54[0][0]              \n",
            "__________________________________________________________________________________________________\n",
            "dropout_53 (Dropout)            (None, None, None, 1 0           conv2d_55[0][0]                  \n",
            "__________________________________________________________________________________________________\n",
            "concatenate_50 (Concatenate)    (None, None, None, 7 0           concatenate_49[0][0]             \n",
            "                                                                 dropout_53[0][0]                 \n",
            "__________________________________________________________________________________________________\n",
            "batch_normalization_55 (BatchNo (None, None, None, 7 288         concatenate_50[0][0]             \n",
            "__________________________________________________________________________________________________\n",
            "activation_55 (Activation)      (None, None, None, 7 0           batch_normalization_55[0][0]     \n",
            "__________________________________________________________________________________________________\n",
            "conv2d_56 (Conv2D)              (None, None, None, 1 7776        activation_55[0][0]              \n",
            "__________________________________________________________________________________________________\n",
            "dropout_54 (Dropout)            (None, None, None, 1 0           conv2d_56[0][0]                  \n",
            "__________________________________________________________________________________________________\n",
            "concatenate_51 (Concatenate)    (None, None, None, 8 0           concatenate_50[0][0]             \n",
            "                                                                 dropout_54[0][0]                 \n",
            "__________________________________________________________________________________________________\n",
            "batch_normalization_56 (BatchNo (None, None, None, 8 336         concatenate_51[0][0]             \n",
            "__________________________________________________________________________________________________\n",
            "activation_56 (Activation)      (None, None, None, 8 0           batch_normalization_56[0][0]     \n",
            "__________________________________________________________________________________________________\n",
            "conv2d_57 (Conv2D)              (None, None, None, 1 9072        activation_56[0][0]              \n",
            "__________________________________________________________________________________________________\n",
            "dropout_55 (Dropout)            (None, None, None, 1 0           conv2d_57[0][0]                  \n",
            "__________________________________________________________________________________________________\n",
            "concatenate_52 (Concatenate)    (None, None, None, 9 0           concatenate_51[0][0]             \n",
            "                                                                 dropout_55[0][0]                 \n",
            "__________________________________________________________________________________________________\n",
            "batch_normalization_57 (BatchNo (None, None, None, 9 384         concatenate_52[0][0]             \n",
            "__________________________________________________________________________________________________\n",
            "activation_57 (Activation)      (None, None, None, 9 0           batch_normalization_57[0][0]     \n",
            "__________________________________________________________________________________________________\n",
            "conv2d_58 (Conv2D)              (None, None, None, 1 10368       activation_57[0][0]              \n",
            "__________________________________________________________________________________________________\n",
            "dropout_56 (Dropout)            (None, None, None, 1 0           conv2d_58[0][0]                  \n",
            "__________________________________________________________________________________________________\n",
            "concatenate_53 (Concatenate)    (None, None, None, 1 0           concatenate_52[0][0]             \n",
            "                                                                 dropout_56[0][0]                 \n",
            "__________________________________________________________________________________________________\n",
            "batch_normalization_58 (BatchNo (None, None, None, 1 432         concatenate_53[0][0]             \n",
            "__________________________________________________________________________________________________\n",
            "activation_58 (Activation)      (None, None, None, 1 0           batch_normalization_58[0][0]     \n",
            "__________________________________________________________________________________________________\n",
            "conv2d_59 (Conv2D)              (None, None, None, 1 11664       activation_58[0][0]              \n",
            "__________________________________________________________________________________________________\n",
            "dropout_57 (Dropout)            (None, None, None, 1 0           conv2d_59[0][0]                  \n",
            "__________________________________________________________________________________________________\n",
            "concatenate_54 (Concatenate)    (None, None, None, 1 0           concatenate_53[0][0]             \n",
            "                                                                 dropout_57[0][0]                 \n",
            "__________________________________________________________________________________________________\n",
            "batch_normalization_59 (BatchNo (None, None, None, 1 480         concatenate_54[0][0]             \n",
            "__________________________________________________________________________________________________\n",
            "activation_59 (Activation)      (None, None, None, 1 0           batch_normalization_59[0][0]     \n",
            "__________________________________________________________________________________________________\n",
            "conv2d_60 (Conv2D)              (None, None, None, 1 12960       activation_59[0][0]              \n",
            "__________________________________________________________________________________________________\n",
            "dropout_58 (Dropout)            (None, None, None, 1 0           conv2d_60[0][0]                  \n",
            "__________________________________________________________________________________________________\n",
            "concatenate_55 (Concatenate)    (None, None, None, 1 0           concatenate_54[0][0]             \n",
            "                                                                 dropout_58[0][0]                 \n",
            "__________________________________________________________________________________________________\n",
            "batch_normalization_60 (BatchNo (None, None, None, 1 528         concatenate_55[0][0]             \n",
            "__________________________________________________________________________________________________\n",
            "activation_60 (Activation)      (None, None, None, 1 0           batch_normalization_60[0][0]     \n",
            "__________________________________________________________________________________________________\n",
            "conv2d_61 (Conv2D)              (None, None, None, 1 14256       activation_60[0][0]              \n",
            "__________________________________________________________________________________________________\n",
            "dropout_59 (Dropout)            (None, None, None, 1 0           conv2d_61[0][0]                  \n",
            "__________________________________________________________________________________________________\n",
            "concatenate_56 (Concatenate)    (None, None, None, 1 0           concatenate_55[0][0]             \n",
            "                                                                 dropout_59[0][0]                 \n",
            "__________________________________________________________________________________________________\n",
            "batch_normalization_61 (BatchNo (None, None, None, 1 576         concatenate_56[0][0]             \n",
            "__________________________________________________________________________________________________\n",
            "activation_61 (Activation)      (None, None, None, 1 0           batch_normalization_61[0][0]     \n",
            "__________________________________________________________________________________________________\n",
            "conv2d_62 (Conv2D)              (None, None, None, 1 15552       activation_61[0][0]              \n",
            "__________________________________________________________________________________________________\n",
            "dropout_60 (Dropout)            (None, None, None, 1 0           conv2d_62[0][0]                  \n",
            "__________________________________________________________________________________________________\n",
            "concatenate_57 (Concatenate)    (None, None, None, 1 0           concatenate_56[0][0]             \n",
            "                                                                 dropout_60[0][0]                 \n",
            "__________________________________________________________________________________________________\n",
            "batch_normalization_62 (BatchNo (None, None, None, 1 624         concatenate_57[0][0]             \n",
            "__________________________________________________________________________________________________\n",
            "activation_62 (Activation)      (None, None, None, 1 0           batch_normalization_62[0][0]     \n",
            "__________________________________________________________________________________________________\n",
            "conv2d_63 (Conv2D)              (None, None, None, 1 16848       activation_62[0][0]              \n",
            "__________________________________________________________________________________________________\n",
            "dropout_61 (Dropout)            (None, None, None, 1 0           conv2d_63[0][0]                  \n",
            "__________________________________________________________________________________________________\n",
            "concatenate_58 (Concatenate)    (None, None, None, 1 0           concatenate_57[0][0]             \n",
            "                                                                 dropout_61[0][0]                 \n",
            "__________________________________________________________________________________________________\n",
            "batch_normalization_63 (BatchNo (None, None, None, 1 672         concatenate_58[0][0]             \n",
            "__________________________________________________________________________________________________\n",
            "activation_63 (Activation)      (None, None, None, 1 0           batch_normalization_63[0][0]     \n",
            "__________________________________________________________________________________________________\n",
            "conv2d_64 (Conv2D)              (None, None, None, 1 18144       activation_63[0][0]              \n",
            "__________________________________________________________________________________________________\n",
            "dropout_62 (Dropout)            (None, None, None, 1 0           conv2d_64[0][0]                  \n",
            "__________________________________________________________________________________________________\n",
            "concatenate_59 (Concatenate)    (None, None, None, 1 0           concatenate_58[0][0]             \n",
            "                                                                 dropout_62[0][0]                 \n",
            "__________________________________________________________________________________________________\n",
            "batch_normalization_64 (BatchNo (None, None, None, 1 720         concatenate_59[0][0]             \n",
            "__________________________________________________________________________________________________\n",
            "activation_64 (Activation)      (None, None, None, 1 0           batch_normalization_64[0][0]     \n",
            "__________________________________________________________________________________________________\n",
            "conv2d_65 (Conv2D)              (None, None, None, 1 19440       activation_64[0][0]              \n",
            "__________________________________________________________________________________________________\n",
            "dropout_63 (Dropout)            (None, None, None, 1 0           conv2d_65[0][0]                  \n",
            "__________________________________________________________________________________________________\n",
            "concatenate_60 (Concatenate)    (None, None, None, 1 0           concatenate_59[0][0]             \n",
            "                                                                 dropout_63[0][0]                 \n",
            "__________________________________________________________________________________________________\n",
            "batch_normalization_65 (BatchNo (None, None, None, 1 768         concatenate_60[0][0]             \n",
            "__________________________________________________________________________________________________\n",
            "activation_65 (Activation)      (None, None, None, 1 0           batch_normalization_65[0][0]     \n",
            "__________________________________________________________________________________________________\n",
            "conv2d_66 (Conv2D)              (None, None, None, 1 2304        activation_65[0][0]              \n",
            "__________________________________________________________________________________________________\n",
            "dropout_64 (Dropout)            (None, None, None, 1 0           conv2d_66[0][0]                  \n",
            "__________________________________________________________________________________________________\n",
            "average_pooling2d_4 (AveragePoo (None, None, None, 1 0           dropout_64[0][0]                 \n",
            "__________________________________________________________________________________________________\n",
            "batch_normalization_66 (BatchNo (None, None, None, 1 48          average_pooling2d_4[0][0]        \n",
            "__________________________________________________________________________________________________\n",
            "activation_66 (Activation)      (None, None, None, 1 0           batch_normalization_66[0][0]     \n",
            "__________________________________________________________________________________________________\n",
            "conv2d_67 (Conv2D)              (None, None, None, 1 1296        activation_66[0][0]              \n",
            "__________________________________________________________________________________________________\n",
            "dropout_65 (Dropout)            (None, None, None, 1 0           conv2d_67[0][0]                  \n",
            "__________________________________________________________________________________________________\n",
            "concatenate_61 (Concatenate)    (None, None, None, 2 0           average_pooling2d_4[0][0]        \n",
            "                                                                 dropout_65[0][0]                 \n",
            "__________________________________________________________________________________________________\n",
            "batch_normalization_67 (BatchNo (None, None, None, 2 96          concatenate_61[0][0]             \n",
            "__________________________________________________________________________________________________\n",
            "activation_67 (Activation)      (None, None, None, 2 0           batch_normalization_67[0][0]     \n",
            "__________________________________________________________________________________________________\n",
            "conv2d_68 (Conv2D)              (None, None, None, 1 2592        activation_67[0][0]              \n",
            "__________________________________________________________________________________________________\n",
            "dropout_66 (Dropout)            (None, None, None, 1 0           conv2d_68[0][0]                  \n",
            "__________________________________________________________________________________________________\n",
            "concatenate_62 (Concatenate)    (None, None, None, 3 0           concatenate_61[0][0]             \n",
            "                                                                 dropout_66[0][0]                 \n",
            "__________________________________________________________________________________________________\n",
            "batch_normalization_68 (BatchNo (None, None, None, 3 144         concatenate_62[0][0]             \n",
            "__________________________________________________________________________________________________\n",
            "activation_68 (Activation)      (None, None, None, 3 0           batch_normalization_68[0][0]     \n",
            "__________________________________________________________________________________________________\n",
            "conv2d_69 (Conv2D)              (None, None, None, 1 3888        activation_68[0][0]              \n",
            "__________________________________________________________________________________________________\n",
            "dropout_67 (Dropout)            (None, None, None, 1 0           conv2d_69[0][0]                  \n",
            "__________________________________________________________________________________________________\n",
            "concatenate_63 (Concatenate)    (None, None, None, 4 0           concatenate_62[0][0]             \n",
            "                                                                 dropout_67[0][0]                 \n",
            "__________________________________________________________________________________________________\n",
            "batch_normalization_69 (BatchNo (None, None, None, 4 192         concatenate_63[0][0]             \n",
            "__________________________________________________________________________________________________\n",
            "activation_69 (Activation)      (None, None, None, 4 0           batch_normalization_69[0][0]     \n",
            "__________________________________________________________________________________________________\n",
            "conv2d_70 (Conv2D)              (None, None, None, 1 5184        activation_69[0][0]              \n",
            "__________________________________________________________________________________________________\n",
            "dropout_68 (Dropout)            (None, None, None, 1 0           conv2d_70[0][0]                  \n",
            "__________________________________________________________________________________________________\n",
            "concatenate_64 (Concatenate)    (None, None, None, 6 0           concatenate_63[0][0]             \n",
            "                                                                 dropout_68[0][0]                 \n",
            "__________________________________________________________________________________________________\n",
            "batch_normalization_70 (BatchNo (None, None, None, 6 240         concatenate_64[0][0]             \n",
            "__________________________________________________________________________________________________\n",
            "activation_70 (Activation)      (None, None, None, 6 0           batch_normalization_70[0][0]     \n",
            "__________________________________________________________________________________________________\n",
            "conv2d_71 (Conv2D)              (None, None, None, 1 6480        activation_70[0][0]              \n",
            "__________________________________________________________________________________________________\n",
            "dropout_69 (Dropout)            (None, None, None, 1 0           conv2d_71[0][0]                  \n",
            "__________________________________________________________________________________________________\n",
            "concatenate_65 (Concatenate)    (None, None, None, 7 0           concatenate_64[0][0]             \n",
            "                                                                 dropout_69[0][0]                 \n",
            "__________________________________________________________________________________________________\n",
            "batch_normalization_71 (BatchNo (None, None, None, 7 288         concatenate_65[0][0]             \n",
            "__________________________________________________________________________________________________\n",
            "activation_71 (Activation)      (None, None, None, 7 0           batch_normalization_71[0][0]     \n",
            "__________________________________________________________________________________________________\n",
            "conv2d_72 (Conv2D)              (None, None, None, 1 7776        activation_71[0][0]              \n",
            "__________________________________________________________________________________________________\n",
            "dropout_70 (Dropout)            (None, None, None, 1 0           conv2d_72[0][0]                  \n",
            "__________________________________________________________________________________________________\n",
            "concatenate_66 (Concatenate)    (None, None, None, 8 0           concatenate_65[0][0]             \n",
            "                                                                 dropout_70[0][0]                 \n",
            "__________________________________________________________________________________________________\n",
            "batch_normalization_72 (BatchNo (None, None, None, 8 336         concatenate_66[0][0]             \n",
            "__________________________________________________________________________________________________\n",
            "activation_72 (Activation)      (None, None, None, 8 0           batch_normalization_72[0][0]     \n",
            "__________________________________________________________________________________________________\n",
            "conv2d_73 (Conv2D)              (None, None, None, 1 9072        activation_72[0][0]              \n",
            "__________________________________________________________________________________________________\n",
            "dropout_71 (Dropout)            (None, None, None, 1 0           conv2d_73[0][0]                  \n",
            "__________________________________________________________________________________________________\n",
            "concatenate_67 (Concatenate)    (None, None, None, 9 0           concatenate_66[0][0]             \n",
            "                                                                 dropout_71[0][0]                 \n",
            "__________________________________________________________________________________________________\n",
            "batch_normalization_73 (BatchNo (None, None, None, 9 384         concatenate_67[0][0]             \n",
            "__________________________________________________________________________________________________\n",
            "activation_73 (Activation)      (None, None, None, 9 0           batch_normalization_73[0][0]     \n",
            "__________________________________________________________________________________________________\n",
            "conv2d_74 (Conv2D)              (None, None, None, 1 10368       activation_73[0][0]              \n",
            "__________________________________________________________________________________________________\n",
            "dropout_72 (Dropout)            (None, None, None, 1 0           conv2d_74[0][0]                  \n",
            "__________________________________________________________________________________________________\n",
            "concatenate_68 (Concatenate)    (None, None, None, 1 0           concatenate_67[0][0]             \n",
            "                                                                 dropout_72[0][0]                 \n",
            "__________________________________________________________________________________________________\n",
            "batch_normalization_74 (BatchNo (None, None, None, 1 432         concatenate_68[0][0]             \n",
            "__________________________________________________________________________________________________\n",
            "activation_74 (Activation)      (None, None, None, 1 0           batch_normalization_74[0][0]     \n",
            "__________________________________________________________________________________________________\n",
            "conv2d_75 (Conv2D)              (None, None, None, 1 11664       activation_74[0][0]              \n",
            "__________________________________________________________________________________________________\n",
            "dropout_73 (Dropout)            (None, None, None, 1 0           conv2d_75[0][0]                  \n",
            "__________________________________________________________________________________________________\n",
            "concatenate_69 (Concatenate)    (None, None, None, 1 0           concatenate_68[0][0]             \n",
            "                                                                 dropout_73[0][0]                 \n",
            "__________________________________________________________________________________________________\n",
            "batch_normalization_75 (BatchNo (None, None, None, 1 480         concatenate_69[0][0]             \n",
            "__________________________________________________________________________________________________\n",
            "activation_75 (Activation)      (None, None, None, 1 0           batch_normalization_75[0][0]     \n",
            "__________________________________________________________________________________________________\n",
            "conv2d_76 (Conv2D)              (None, None, None, 1 12960       activation_75[0][0]              \n",
            "__________________________________________________________________________________________________\n",
            "dropout_74 (Dropout)            (None, None, None, 1 0           conv2d_76[0][0]                  \n",
            "__________________________________________________________________________________________________\n",
            "concatenate_70 (Concatenate)    (None, None, None, 1 0           concatenate_69[0][0]             \n",
            "                                                                 dropout_74[0][0]                 \n",
            "__________________________________________________________________________________________________\n",
            "batch_normalization_76 (BatchNo (None, None, None, 1 528         concatenate_70[0][0]             \n",
            "__________________________________________________________________________________________________\n",
            "activation_76 (Activation)      (None, None, None, 1 0           batch_normalization_76[0][0]     \n",
            "__________________________________________________________________________________________________\n",
            "conv2d_77 (Conv2D)              (None, None, None, 1 14256       activation_76[0][0]              \n",
            "__________________________________________________________________________________________________\n",
            "dropout_75 (Dropout)            (None, None, None, 1 0           conv2d_77[0][0]                  \n",
            "__________________________________________________________________________________________________\n",
            "concatenate_71 (Concatenate)    (None, None, None, 1 0           concatenate_70[0][0]             \n",
            "                                                                 dropout_75[0][0]                 \n",
            "__________________________________________________________________________________________________\n",
            "batch_normalization_77 (BatchNo (None, None, None, 1 576         concatenate_71[0][0]             \n",
            "__________________________________________________________________________________________________\n",
            "activation_77 (Activation)      (None, None, None, 1 0           batch_normalization_77[0][0]     \n",
            "__________________________________________________________________________________________________\n",
            "conv2d_78 (Conv2D)              (None, None, None, 1 15552       activation_77[0][0]              \n",
            "__________________________________________________________________________________________________\n",
            "dropout_76 (Dropout)            (None, None, None, 1 0           conv2d_78[0][0]                  \n",
            "__________________________________________________________________________________________________\n",
            "concatenate_72 (Concatenate)    (None, None, None, 1 0           concatenate_71[0][0]             \n",
            "                                                                 dropout_76[0][0]                 \n",
            "__________________________________________________________________________________________________\n",
            "batch_normalization_78 (BatchNo (None, None, None, 1 624         concatenate_72[0][0]             \n",
            "__________________________________________________________________________________________________\n",
            "activation_78 (Activation)      (None, None, None, 1 0           batch_normalization_78[0][0]     \n",
            "__________________________________________________________________________________________________\n",
            "conv2d_79 (Conv2D)              (None, None, None, 1 1872        activation_78[0][0]              \n",
            "__________________________________________________________________________________________________\n",
            "dropout_77 (Dropout)            (None, None, None, 1 0           conv2d_79[0][0]                  \n",
            "__________________________________________________________________________________________________\n",
            "average_pooling2d_5 (AveragePoo (None, None, None, 1 0           dropout_77[0][0]                 \n",
            "__________________________________________________________________________________________________\n",
            "batch_normalization_79 (BatchNo (None, None, None, 1 48          average_pooling2d_5[0][0]        \n",
            "__________________________________________________________________________________________________\n",
            "activation_79 (Activation)      (None, None, None, 1 0           batch_normalization_79[0][0]     \n",
            "__________________________________________________________________________________________________\n",
            "conv2d_80 (Conv2D)              (None, None, None, 1 1296        activation_79[0][0]              \n",
            "__________________________________________________________________________________________________\n",
            "dropout_78 (Dropout)            (None, None, None, 1 0           conv2d_80[0][0]                  \n",
            "__________________________________________________________________________________________________\n",
            "concatenate_73 (Concatenate)    (None, None, None, 2 0           average_pooling2d_5[0][0]        \n",
            "                                                                 dropout_78[0][0]                 \n",
            "__________________________________________________________________________________________________\n",
            "batch_normalization_80 (BatchNo (None, None, None, 2 96          concatenate_73[0][0]             \n",
            "__________________________________________________________________________________________________\n",
            "activation_80 (Activation)      (None, None, None, 2 0           batch_normalization_80[0][0]     \n",
            "__________________________________________________________________________________________________\n",
            "conv2d_81 (Conv2D)              (None, None, None, 1 2592        activation_80[0][0]              \n",
            "__________________________________________________________________________________________________\n",
            "dropout_79 (Dropout)            (None, None, None, 1 0           conv2d_81[0][0]                  \n",
            "__________________________________________________________________________________________________\n",
            "concatenate_74 (Concatenate)    (None, None, None, 3 0           concatenate_73[0][0]             \n",
            "                                                                 dropout_79[0][0]                 \n",
            "__________________________________________________________________________________________________\n",
            "batch_normalization_81 (BatchNo (None, None, None, 3 144         concatenate_74[0][0]             \n",
            "__________________________________________________________________________________________________\n",
            "activation_81 (Activation)      (None, None, None, 3 0           batch_normalization_81[0][0]     \n",
            "__________________________________________________________________________________________________\n",
            "conv2d_82 (Conv2D)              (None, None, None, 1 3888        activation_81[0][0]              \n",
            "__________________________________________________________________________________________________\n",
            "dropout_80 (Dropout)            (None, None, None, 1 0           conv2d_82[0][0]                  \n",
            "__________________________________________________________________________________________________\n",
            "concatenate_75 (Concatenate)    (None, None, None, 4 0           concatenate_74[0][0]             \n",
            "                                                                 dropout_80[0][0]                 \n",
            "__________________________________________________________________________________________________\n",
            "batch_normalization_82 (BatchNo (None, None, None, 4 192         concatenate_75[0][0]             \n",
            "__________________________________________________________________________________________________\n",
            "activation_82 (Activation)      (None, None, None, 4 0           batch_normalization_82[0][0]     \n",
            "__________________________________________________________________________________________________\n",
            "conv2d_83 (Conv2D)              (None, None, None, 1 5184        activation_82[0][0]              \n",
            "__________________________________________________________________________________________________\n",
            "dropout_81 (Dropout)            (None, None, None, 1 0           conv2d_83[0][0]                  \n",
            "__________________________________________________________________________________________________\n",
            "concatenate_76 (Concatenate)    (None, None, None, 6 0           concatenate_75[0][0]             \n",
            "                                                                 dropout_81[0][0]                 \n",
            "__________________________________________________________________________________________________\n",
            "batch_normalization_83 (BatchNo (None, None, None, 6 240         concatenate_76[0][0]             \n",
            "__________________________________________________________________________________________________\n",
            "activation_83 (Activation)      (None, None, None, 6 0           batch_normalization_83[0][0]     \n",
            "__________________________________________________________________________________________________\n",
            "conv2d_84 (Conv2D)              (None, None, None, 1 6480        activation_83[0][0]              \n",
            "__________________________________________________________________________________________________\n",
            "dropout_82 (Dropout)            (None, None, None, 1 0           conv2d_84[0][0]                  \n",
            "__________________________________________________________________________________________________\n",
            "concatenate_77 (Concatenate)    (None, None, None, 7 0           concatenate_76[0][0]             \n",
            "                                                                 dropout_82[0][0]                 \n",
            "__________________________________________________________________________________________________\n",
            "batch_normalization_84 (BatchNo (None, None, None, 7 288         concatenate_77[0][0]             \n",
            "__________________________________________________________________________________________________\n",
            "activation_84 (Activation)      (None, None, None, 7 0           batch_normalization_84[0][0]     \n",
            "__________________________________________________________________________________________________\n",
            "conv2d_85 (Conv2D)              (None, None, None, 1 7776        activation_84[0][0]              \n",
            "__________________________________________________________________________________________________\n",
            "dropout_83 (Dropout)            (None, None, None, 1 0           conv2d_85[0][0]                  \n",
            "__________________________________________________________________________________________________\n",
            "concatenate_78 (Concatenate)    (None, None, None, 8 0           concatenate_77[0][0]             \n",
            "                                                                 dropout_83[0][0]                 \n",
            "__________________________________________________________________________________________________\n",
            "batch_normalization_85 (BatchNo (None, None, None, 8 336         concatenate_78[0][0]             \n",
            "__________________________________________________________________________________________________\n",
            "activation_85 (Activation)      (None, None, None, 8 0           batch_normalization_85[0][0]     \n",
            "__________________________________________________________________________________________________\n",
            "conv2d_86 (Conv2D)              (None, None, None, 1 9072        activation_85[0][0]              \n",
            "__________________________________________________________________________________________________\n",
            "dropout_84 (Dropout)            (None, None, None, 1 0           conv2d_86[0][0]                  \n",
            "__________________________________________________________________________________________________\n",
            "concatenate_79 (Concatenate)    (None, None, None, 9 0           concatenate_78[0][0]             \n",
            "                                                                 dropout_84[0][0]                 \n",
            "__________________________________________________________________________________________________\n",
            "batch_normalization_86 (BatchNo (None, None, None, 9 384         concatenate_79[0][0]             \n",
            "__________________________________________________________________________________________________\n",
            "activation_86 (Activation)      (None, None, None, 9 0           batch_normalization_86[0][0]     \n",
            "__________________________________________________________________________________________________\n",
            "conv2d_87 (Conv2D)              (None, None, None, 1 10368       activation_86[0][0]              \n",
            "__________________________________________________________________________________________________\n",
            "dropout_85 (Dropout)            (None, None, None, 1 0           conv2d_87[0][0]                  \n",
            "__________________________________________________________________________________________________\n",
            "concatenate_80 (Concatenate)    (None, None, None, 1 0           concatenate_79[0][0]             \n",
            "                                                                 dropout_85[0][0]                 \n",
            "__________________________________________________________________________________________________\n",
            "batch_normalization_87 (BatchNo (None, None, None, 1 432         concatenate_80[0][0]             \n",
            "__________________________________________________________________________________________________\n",
            "activation_87 (Activation)      (None, None, None, 1 0           batch_normalization_87[0][0]     \n",
            "__________________________________________________________________________________________________\n",
            "conv2d_88 (Conv2D)              (None, None, None, 1 11664       activation_87[0][0]              \n",
            "__________________________________________________________________________________________________\n",
            "dropout_86 (Dropout)            (None, None, None, 1 0           conv2d_88[0][0]                  \n",
            "__________________________________________________________________________________________________\n",
            "concatenate_81 (Concatenate)    (None, None, None, 1 0           concatenate_80[0][0]             \n",
            "                                                                 dropout_86[0][0]                 \n",
            "__________________________________________________________________________________________________\n",
            "batch_normalization_88 (BatchNo (None, None, None, 1 480         concatenate_81[0][0]             \n",
            "__________________________________________________________________________________________________\n",
            "activation_88 (Activation)      (None, None, None, 1 0           batch_normalization_88[0][0]     \n",
            "__________________________________________________________________________________________________\n",
            "conv2d_89 (Conv2D)              (None, None, None, 1 12960       activation_88[0][0]              \n",
            "__________________________________________________________________________________________________\n",
            "dropout_87 (Dropout)            (None, None, None, 1 0           conv2d_89[0][0]                  \n",
            "__________________________________________________________________________________________________\n",
            "concatenate_82 (Concatenate)    (None, None, None, 1 0           concatenate_81[0][0]             \n",
            "                                                                 dropout_87[0][0]                 \n",
            "__________________________________________________________________________________________________\n",
            "batch_normalization_89 (BatchNo (None, None, None, 1 528         concatenate_82[0][0]             \n",
            "__________________________________________________________________________________________________\n",
            "activation_89 (Activation)      (None, None, None, 1 0           batch_normalization_89[0][0]     \n",
            "__________________________________________________________________________________________________\n",
            "conv2d_90 (Conv2D)              (None, None, None, 1 14256       activation_89[0][0]              \n",
            "__________________________________________________________________________________________________\n",
            "dropout_88 (Dropout)            (None, None, None, 1 0           conv2d_90[0][0]                  \n",
            "__________________________________________________________________________________________________\n",
            "concatenate_83 (Concatenate)    (None, None, None, 1 0           concatenate_82[0][0]             \n",
            "                                                                 dropout_88[0][0]                 \n",
            "__________________________________________________________________________________________________\n",
            "batch_normalization_90 (BatchNo (None, None, None, 1 576         concatenate_83[0][0]             \n",
            "__________________________________________________________________________________________________\n",
            "activation_90 (Activation)      (None, None, None, 1 0           batch_normalization_90[0][0]     \n",
            "__________________________________________________________________________________________________\n",
            "conv2d_91 (Conv2D)              (None, None, None, 1 15552       activation_90[0][0]              \n",
            "__________________________________________________________________________________________________\n",
            "dropout_89 (Dropout)            (None, None, None, 1 0           conv2d_91[0][0]                  \n",
            "__________________________________________________________________________________________________\n",
            "concatenate_84 (Concatenate)    (None, None, None, 1 0           concatenate_83[0][0]             \n",
            "                                                                 dropout_89[0][0]                 \n",
            "__________________________________________________________________________________________________\n",
            "batch_normalization_91 (BatchNo (None, None, None, 1 624         concatenate_84[0][0]             \n",
            "__________________________________________________________________________________________________\n",
            "activation_91 (Activation)      (None, None, None, 1 0           batch_normalization_91[0][0]     \n",
            "__________________________________________________________________________________________________\n",
            "conv2d_92 (Conv2D)              (None, None, None, 1 1872        activation_91[0][0]              \n",
            "__________________________________________________________________________________________________\n",
            "dropout_90 (Dropout)            (None, None, None, 1 0           conv2d_92[0][0]                  \n",
            "__________________________________________________________________________________________________\n",
            "average_pooling2d_6 (AveragePoo (None, None, None, 1 0           dropout_90[0][0]                 \n",
            "__________________________________________________________________________________________________\n",
            "batch_normalization_92 (BatchNo (None, None, None, 1 48          average_pooling2d_6[0][0]        \n",
            "__________________________________________________________________________________________________\n",
            "activation_92 (Activation)      (None, None, None, 1 0           batch_normalization_92[0][0]     \n",
            "__________________________________________________________________________________________________\n",
            "conv2d_93 (Conv2D)              (None, None, None, 1 1296        activation_92[0][0]              \n",
            "__________________________________________________________________________________________________\n",
            "dropout_91 (Dropout)            (None, None, None, 1 0           conv2d_93[0][0]                  \n",
            "__________________________________________________________________________________________________\n",
            "concatenate_85 (Concatenate)    (None, None, None, 2 0           average_pooling2d_6[0][0]        \n",
            "                                                                 dropout_91[0][0]                 \n",
            "__________________________________________________________________________________________________\n",
            "batch_normalization_93 (BatchNo (None, None, None, 2 96          concatenate_85[0][0]             \n",
            "__________________________________________________________________________________________________\n",
            "activation_93 (Activation)      (None, None, None, 2 0           batch_normalization_93[0][0]     \n",
            "__________________________________________________________________________________________________\n",
            "conv2d_94 (Conv2D)              (None, None, None, 1 2592        activation_93[0][0]              \n",
            "__________________________________________________________________________________________________\n",
            "dropout_92 (Dropout)            (None, None, None, 1 0           conv2d_94[0][0]                  \n",
            "__________________________________________________________________________________________________\n",
            "concatenate_86 (Concatenate)    (None, None, None, 3 0           concatenate_85[0][0]             \n",
            "                                                                 dropout_92[0][0]                 \n",
            "__________________________________________________________________________________________________\n",
            "batch_normalization_94 (BatchNo (None, None, None, 3 144         concatenate_86[0][0]             \n",
            "__________________________________________________________________________________________________\n",
            "activation_94 (Activation)      (None, None, None, 3 0           batch_normalization_94[0][0]     \n",
            "__________________________________________________________________________________________________\n",
            "conv2d_95 (Conv2D)              (None, None, None, 1 3888        activation_94[0][0]              \n",
            "__________________________________________________________________________________________________\n",
            "dropout_93 (Dropout)            (None, None, None, 1 0           conv2d_95[0][0]                  \n",
            "__________________________________________________________________________________________________\n",
            "concatenate_87 (Concatenate)    (None, None, None, 4 0           concatenate_86[0][0]             \n",
            "                                                                 dropout_93[0][0]                 \n",
            "__________________________________________________________________________________________________\n",
            "batch_normalization_95 (BatchNo (None, None, None, 4 192         concatenate_87[0][0]             \n",
            "__________________________________________________________________________________________________\n",
            "activation_95 (Activation)      (None, None, None, 4 0           batch_normalization_95[0][0]     \n",
            "__________________________________________________________________________________________________\n",
            "conv2d_96 (Conv2D)              (None, None, None, 1 5184        activation_95[0][0]              \n",
            "__________________________________________________________________________________________________\n",
            "dropout_94 (Dropout)            (None, None, None, 1 0           conv2d_96[0][0]                  \n",
            "__________________________________________________________________________________________________\n",
            "concatenate_88 (Concatenate)    (None, None, None, 6 0           concatenate_87[0][0]             \n",
            "                                                                 dropout_94[0][0]                 \n",
            "__________________________________________________________________________________________________\n",
            "batch_normalization_96 (BatchNo (None, None, None, 6 240         concatenate_88[0][0]             \n",
            "__________________________________________________________________________________________________\n",
            "activation_96 (Activation)      (None, None, None, 6 0           batch_normalization_96[0][0]     \n",
            "__________________________________________________________________________________________________\n",
            "conv2d_97 (Conv2D)              (None, None, None, 1 6480        activation_96[0][0]              \n",
            "__________________________________________________________________________________________________\n",
            "dropout_95 (Dropout)            (None, None, None, 1 0           conv2d_97[0][0]                  \n",
            "__________________________________________________________________________________________________\n",
            "concatenate_89 (Concatenate)    (None, None, None, 7 0           concatenate_88[0][0]             \n",
            "                                                                 dropout_95[0][0]                 \n",
            "__________________________________________________________________________________________________\n",
            "batch_normalization_97 (BatchNo (None, None, None, 7 288         concatenate_89[0][0]             \n",
            "__________________________________________________________________________________________________\n",
            "activation_97 (Activation)      (None, None, None, 7 0           batch_normalization_97[0][0]     \n",
            "__________________________________________________________________________________________________\n",
            "conv2d_98 (Conv2D)              (None, None, None, 1 7776        activation_97[0][0]              \n",
            "__________________________________________________________________________________________________\n",
            "dropout_96 (Dropout)            (None, None, None, 1 0           conv2d_98[0][0]                  \n",
            "__________________________________________________________________________________________________\n",
            "concatenate_90 (Concatenate)    (None, None, None, 8 0           concatenate_89[0][0]             \n",
            "                                                                 dropout_96[0][0]                 \n",
            "__________________________________________________________________________________________________\n",
            "batch_normalization_98 (BatchNo (None, None, None, 8 336         concatenate_90[0][0]             \n",
            "__________________________________________________________________________________________________\n",
            "activation_98 (Activation)      (None, None, None, 8 0           batch_normalization_98[0][0]     \n",
            "__________________________________________________________________________________________________\n",
            "conv2d_99 (Conv2D)              (None, None, None, 1 9072        activation_98[0][0]              \n",
            "__________________________________________________________________________________________________\n",
            "dropout_97 (Dropout)            (None, None, None, 1 0           conv2d_99[0][0]                  \n",
            "__________________________________________________________________________________________________\n",
            "concatenate_91 (Concatenate)    (None, None, None, 9 0           concatenate_90[0][0]             \n",
            "                                                                 dropout_97[0][0]                 \n",
            "__________________________________________________________________________________________________\n",
            "batch_normalization_99 (BatchNo (None, None, None, 9 384         concatenate_91[0][0]             \n",
            "__________________________________________________________________________________________________\n",
            "activation_99 (Activation)      (None, None, None, 9 0           batch_normalization_99[0][0]     \n",
            "__________________________________________________________________________________________________\n",
            "conv2d_100 (Conv2D)             (None, None, None, 1 10368       activation_99[0][0]              \n",
            "__________________________________________________________________________________________________\n",
            "dropout_98 (Dropout)            (None, None, None, 1 0           conv2d_100[0][0]                 \n",
            "__________________________________________________________________________________________________\n",
            "concatenate_92 (Concatenate)    (None, None, None, 1 0           concatenate_91[0][0]             \n",
            "                                                                 dropout_98[0][0]                 \n",
            "__________________________________________________________________________________________________\n",
            "batch_normalization_100 (BatchN (None, None, None, 1 432         concatenate_92[0][0]             \n",
            "__________________________________________________________________________________________________\n",
            "activation_100 (Activation)     (None, None, None, 1 0           batch_normalization_100[0][0]    \n",
            "__________________________________________________________________________________________________\n",
            "conv2d_101 (Conv2D)             (None, None, None, 1 11664       activation_100[0][0]             \n",
            "__________________________________________________________________________________________________\n",
            "dropout_99 (Dropout)            (None, None, None, 1 0           conv2d_101[0][0]                 \n",
            "__________________________________________________________________________________________________\n",
            "concatenate_93 (Concatenate)    (None, None, None, 1 0           concatenate_92[0][0]             \n",
            "                                                                 dropout_99[0][0]                 \n",
            "__________________________________________________________________________________________________\n",
            "batch_normalization_101 (BatchN (None, None, None, 1 480         concatenate_93[0][0]             \n",
            "__________________________________________________________________________________________________\n",
            "activation_101 (Activation)     (None, None, None, 1 0           batch_normalization_101[0][0]    \n",
            "__________________________________________________________________________________________________\n",
            "conv2d_102 (Conv2D)             (None, None, None, 1 12960       activation_101[0][0]             \n",
            "__________________________________________________________________________________________________\n",
            "dropout_100 (Dropout)           (None, None, None, 1 0           conv2d_102[0][0]                 \n",
            "__________________________________________________________________________________________________\n",
            "concatenate_94 (Concatenate)    (None, None, None, 1 0           concatenate_93[0][0]             \n",
            "                                                                 dropout_100[0][0]                \n",
            "__________________________________________________________________________________________________\n",
            "batch_normalization_102 (BatchN (None, None, None, 1 528         concatenate_94[0][0]             \n",
            "__________________________________________________________________________________________________\n",
            "activation_102 (Activation)     (None, None, None, 1 0           batch_normalization_102[0][0]    \n",
            "__________________________________________________________________________________________________\n",
            "conv2d_103 (Conv2D)             (None, None, None, 1 14256       activation_102[0][0]             \n",
            "__________________________________________________________________________________________________\n",
            "dropout_101 (Dropout)           (None, None, None, 1 0           conv2d_103[0][0]                 \n",
            "__________________________________________________________________________________________________\n",
            "concatenate_95 (Concatenate)    (None, None, None, 1 0           concatenate_94[0][0]             \n",
            "                                                                 dropout_101[0][0]                \n",
            "__________________________________________________________________________________________________\n",
            "batch_normalization_103 (BatchN (None, None, None, 1 576         concatenate_95[0][0]             \n",
            "__________________________________________________________________________________________________\n",
            "activation_103 (Activation)     (None, None, None, 1 0           batch_normalization_103[0][0]    \n",
            "__________________________________________________________________________________________________\n",
            "conv2d_104 (Conv2D)             (None, None, None, 1 15552       activation_103[0][0]             \n",
            "__________________________________________________________________________________________________\n",
            "dropout_102 (Dropout)           (None, None, None, 1 0           conv2d_104[0][0]                 \n",
            "__________________________________________________________________________________________________\n",
            "concatenate_96 (Concatenate)    (None, None, None, 1 0           concatenate_95[0][0]             \n",
            "                                                                 dropout_102[0][0]                \n",
            "__________________________________________________________________________________________________\n",
            "batch_normalization_104 (BatchN (None, None, None, 1 624         concatenate_96[0][0]             \n",
            "__________________________________________________________________________________________________\n",
            "activation_104 (Activation)     (None, None, None, 1 0           batch_normalization_104[0][0]    \n",
            "__________________________________________________________________________________________________\n",
            "global_average_pooling2d_2 (Glo (None, 156)          0           activation_104[0][0]             \n",
            "__________________________________________________________________________________________________\n",
            "dense_2 (Dense)                 (None, 10)           1570        global_average_pooling2d_2[0][0] \n",
            "==================================================================================================\n",
            "Total params: 479,266\n",
            "Trainable params: 469,594\n",
            "Non-trainable params: 9,672\n",
            "__________________________________________________________________________________________________\n"
          ],
          "name": "stdout"
        }
      ]
    },
    {
      "metadata": {
        "id": "b4XOsW3ahSkL",
        "colab_type": "code",
        "colab": {
          "autoexec": {
            "startup": false,
            "wait_interval": 0
          }
        }
      },
      "cell_type": "code",
      "source": [
        "# determine Loss function and Optimizer\n",
        "model.compile(loss='categorical_crossentropy',\n",
        "              optimizer=Adam(),\n",
        "              metrics=['accuracy'])"
      ],
      "execution_count": 0,
      "outputs": []
    },
    {
      "metadata": {
        "id": "crhGk7kEhXAz",
        "colab_type": "code",
        "colab": {
          "autoexec": {
            "startup": false,
            "wait_interval": 0
          },
          "base_uri": "https://localhost:8080/",
          "height": 547
        },
        "outputId": "3ed4e390-acf1-423c-ad23-345b96e18986",
        "executionInfo": {
          "status": "ok",
          "timestamp": 1526362220785,
          "user_tz": -330,
          "elapsed": 3973859,
          "user": {
            "displayName": "Dipesh Patel",
            "photoUrl": "//lh3.googleusercontent.com/-MZFsrKc3QxQ/AAAAAAAAAAI/AAAAAAAAAAo/7gSl7u-epEM/s50-c-k-no/photo.jpg",
            "userId": "112104547976055991892"
          }
        }
      },
      "cell_type": "code",
      "source": [
        "# Training on 24*24 Images for 15 epochs\n",
        "model.fit_generator(datagen.flow(x_train_resized, y_train,\n",
        "                    batch_size=batch_size),\n",
        "                    epochs=15,\n",
        "                    verbose=1,\n",
        "                    validation_data=(x_test_resized, y_test))\n",
        "model.save_weights(\"Dense_model_1.h5\")\n"
      ],
      "execution_count": 0,
      "outputs": [
        {
          "output_type": "stream",
          "text": [
            "Epoch 1/15\n",
            "782/782 [==============================] - 277s 354ms/step - loss: 1.6119 - acc: 0.3996 - val_loss: 1.6135 - val_acc: 0.4536\n",
            "Epoch 2/15\n",
            "122/782 [===>..........................] - ETA: 3:33 - loss: 1.3738 - acc: 0.4946"
          ],
          "name": "stdout"
        },
        {
          "output_type": "stream",
          "text": [
            "782/782 [==============================] - 262s 335ms/step - loss: 1.2960 - acc: 0.5277 - val_loss: 1.7809 - val_acc: 0.4870\n",
            "Epoch 3/15\n",
            "214/782 [=======>......................] - ETA: 3:03 - loss: 1.1528 - acc: 0.5874"
          ],
          "name": "stdout"
        },
        {
          "output_type": "stream",
          "text": [
            "782/782 [==============================] - 263s 336ms/step - loss: 1.1265 - acc: 0.5971 - val_loss: 2.4729 - val_acc: 0.4491\n",
            "Epoch 4/15\n",
            "248/782 [========>.....................] - ETA: 2:52 - loss: 1.0384 - acc: 0.6316"
          ],
          "name": "stdout"
        },
        {
          "output_type": "stream",
          "text": [
            "782/782 [==============================] - 262s 335ms/step - loss: 1.0196 - acc: 0.6375 - val_loss: 2.0286 - val_acc: 0.5055\n",
            "Epoch 5/15\n",
            "261/782 [=========>....................] - ETA: 2:47 - loss: 0.9652 - acc: 0.6572"
          ],
          "name": "stdout"
        },
        {
          "output_type": "stream",
          "text": [
            "782/782 [==============================] - 260s 333ms/step - loss: 0.9462 - acc: 0.6636 - val_loss: 1.0821 - val_acc: 0.6495\n",
            "Epoch 6/15\n",
            "266/782 [=========>....................] - ETA: 2:45 - loss: 0.9020 - acc: 0.6800"
          ],
          "name": "stdout"
        },
        {
          "output_type": "stream",
          "text": [
            "782/782 [==============================] - 271s 347ms/step - loss: 0.8897 - acc: 0.6863 - val_loss: 1.0370 - val_acc: 0.6739\n",
            "Epoch 7/15\n",
            "268/782 [=========>....................] - ETA: 2:46 - loss: 0.8489 - acc: 0.7006"
          ],
          "name": "stdout"
        },
        {
          "output_type": "stream",
          "text": [
            "782/782 [==============================] - 263s 336ms/step - loss: 0.8336 - acc: 0.7059 - val_loss: 0.9492 - val_acc: 0.6984\n",
            "Epoch 8/15\n",
            "268/782 [=========>....................] - ETA: 2:45 - loss: 0.8113 - acc: 0.7124"
          ],
          "name": "stdout"
        },
        {
          "output_type": "stream",
          "text": [
            "782/782 [==============================] - 261s 334ms/step - loss: 0.7884 - acc: 0.7227 - val_loss: 0.9942 - val_acc: 0.7044\n",
            "Epoch 9/15\n",
            "268/782 [=========>....................] - ETA: 2:44 - loss: 0.7800 - acc: 0.7280"
          ],
          "name": "stdout"
        },
        {
          "output_type": "stream",
          "text": [
            "782/782 [==============================] - 261s 334ms/step - loss: 0.7592 - acc: 0.7337 - val_loss: 1.3208 - val_acc: 0.6265\n",
            "Epoch 10/15\n",
            "267/782 [=========>....................] - ETA: 2:45 - loss: 0.7285 - acc: 0.7439"
          ],
          "name": "stdout"
        },
        {
          "output_type": "stream",
          "text": [
            "782/782 [==============================] - 261s 334ms/step - loss: 0.7294 - acc: 0.7436 - val_loss: 0.7723 - val_acc: 0.7533\n",
            "Epoch 11/15\n",
            "267/782 [=========>....................] - ETA: 2:45 - loss: 0.7037 - acc: 0.7536"
          ],
          "name": "stdout"
        },
        {
          "output_type": "stream",
          "text": [
            "782/782 [==============================] - 262s 335ms/step - loss: 0.7030 - acc: 0.7540 - val_loss: 0.8064 - val_acc: 0.7411\n",
            "Epoch 12/15\n",
            "267/782 [=========>....................] - ETA: 2:45 - loss: 0.6737 - acc: 0.7646"
          ],
          "name": "stdout"
        },
        {
          "output_type": "stream",
          "text": [
            "782/782 [==============================] - 262s 335ms/step - loss: 0.6803 - acc: 0.7639 - val_loss: 0.7552 - val_acc: 0.7617\n",
            "Epoch 13/15\n",
            "267/782 [=========>....................] - ETA: 2:45 - loss: 0.6521 - acc: 0.7729"
          ],
          "name": "stdout"
        },
        {
          "output_type": "stream",
          "text": [
            "782/782 [==============================] - 260s 333ms/step - loss: 0.6567 - acc: 0.7720 - val_loss: 0.8421 - val_acc: 0.7305\n",
            "Epoch 14/15\n",
            "267/782 [=========>....................] - ETA: 2:45 - loss: 0.6378 - acc: 0.7769"
          ],
          "name": "stdout"
        },
        {
          "output_type": "stream",
          "text": [
            "782/782 [==============================] - 261s 333ms/step - loss: 0.6409 - acc: 0.7765 - val_loss: 0.9796 - val_acc: 0.7164\n",
            "Epoch 15/15\n",
            "267/782 [=========>....................] - ETA: 2:44 - loss: 0.6173 - acc: 0.7875"
          ],
          "name": "stdout"
        },
        {
          "output_type": "stream",
          "text": [
            "782/782 [==============================] - 261s 334ms/step - loss: 0.6244 - acc: 0.7834 - val_loss: 0.8118 - val_acc: 0.7581\n"
          ],
          "name": "stdout"
        }
      ]
    },
    {
      "metadata": {
        "id": "mJ5sVPBJl-Su",
        "colab_type": "code",
        "colab": {
          "autoexec": {
            "startup": false,
            "wait_interval": 0
          }
        }
      },
      "cell_type": "code",
      "source": [
        "from google.colab import files\n",
        "files.download('Dense_model_1.h5')"
      ],
      "execution_count": 0,
      "outputs": []
    },
    {
      "metadata": {
        "id": "pStTRSCCgQxX",
        "colab_type": "code",
        "colab": {
          "autoexec": {
            "startup": false,
            "wait_interval": 0
          },
          "base_uri": "https://localhost:8080/",
          "height": 207
        },
        "outputId": "bc82852c-69f1-4367-80d3-e723be26e943",
        "executionInfo": {
          "status": "ok",
          "timestamp": 1526364151653,
          "user_tz": -330,
          "elapsed": 1915293,
          "user": {
            "displayName": "Dipesh Patel",
            "photoUrl": "//lh3.googleusercontent.com/-MZFsrKc3QxQ/AAAAAAAAAAI/AAAAAAAAAAo/7gSl7u-epEM/s50-c-k-no/photo.jpg",
            "userId": "112104547976055991892"
          }
        }
      },
      "cell_type": "code",
      "source": [
        "model.load_weights('Dense_model_1.h5')\n",
        "model.fit_generator(datagen.flow(x_train, y_train,\n",
        "                    batch_size=batch_size),\n",
        "                    epochs=5,\n",
        "                    verbose=1,\n",
        "                    validation_data=(x_test, y_test))\n",
        "model.save_weights(\"Dense_model_2.h5\")\n"
      ],
      "execution_count": 0,
      "outputs": [
        {
          "output_type": "stream",
          "text": [
            "Epoch 1/5\n",
            "782/782 [==============================] - 383s 490ms/step - loss: 0.5687 - acc: 0.8028 - val_loss: 2.1841 - val_acc: 0.3905\n",
            "Epoch 2/5\n",
            "127/782 [===>..........................] - ETA: 5:03 - loss: 0.5441 - acc: 0.8135"
          ],
          "name": "stdout"
        },
        {
          "output_type": "stream",
          "text": [
            "782/782 [==============================] - 382s 488ms/step - loss: 0.5406 - acc: 0.8133 - val_loss: 0.8681 - val_acc: 0.7528\n",
            "Epoch 3/5\n",
            "216/782 [=======>......................] - ETA: 4:23 - loss: 0.5301 - acc: 0.8181"
          ],
          "name": "stdout"
        },
        {
          "output_type": "stream",
          "text": [
            "782/782 [==============================] - 382s 489ms/step - loss: 0.5262 - acc: 0.8183 - val_loss: 0.7422 - val_acc: 0.7755\n",
            "Epoch 4/5\n",
            "250/782 [========>.....................] - ETA: 4:07 - loss: 0.4964 - acc: 0.8273"
          ],
          "name": "stdout"
        },
        {
          "output_type": "stream",
          "text": [
            "782/782 [==============================] - 382s 488ms/step - loss: 0.5036 - acc: 0.8246 - val_loss: 0.8276 - val_acc: 0.7581\n",
            "Epoch 5/5\n",
            "262/782 [=========>....................] - ETA: 4:01 - loss: 0.4958 - acc: 0.8288"
          ],
          "name": "stdout"
        },
        {
          "output_type": "stream",
          "text": [
            "782/782 [==============================] - 382s 489ms/step - loss: 0.4975 - acc: 0.8279 - val_loss: 0.9713 - val_acc: 0.7270\n"
          ],
          "name": "stdout"
        }
      ]
    },
    {
      "metadata": {
        "id": "dfh5ZYCdgTHP",
        "colab_type": "code",
        "colab": {
          "autoexec": {
            "startup": false,
            "wait_interval": 0
          },
          "base_uri": "https://localhost:8080/",
          "height": 377
        },
        "outputId": "db159b78-f7d7-4f0b-bf62-9399bb998da8",
        "executionInfo": {
          "status": "ok",
          "timestamp": 1526369138420,
          "user_tz": -330,
          "elapsed": 3853377,
          "user": {
            "displayName": "Dipesh Patel",
            "photoUrl": "//lh3.googleusercontent.com/-MZFsrKc3QxQ/AAAAAAAAAAI/AAAAAAAAAAo/7gSl7u-epEM/s50-c-k-no/photo.jpg",
            "userId": "112104547976055991892"
          }
        }
      },
      "cell_type": "code",
      "source": [
        "model.fit_generator(datagen.flow(x_train, y_train,\n",
        "                    batch_size=batch_size),\n",
        "                    epochs=10,\n",
        "                    verbose=1,\n",
        "                    validation_data=(x_test, y_test))\n",
        "model.save_weights(\"Dense_model_3.h5\")\n"
      ],
      "execution_count": 0,
      "outputs": [
        {
          "output_type": "stream",
          "text": [
            "Epoch 1/10\n",
            "782/782 [==============================] - 385s 493ms/step - loss: 0.4473 - acc: 0.8434 - val_loss: 0.8056 - val_acc: 0.7678\n",
            "Epoch 2/10\n",
            "122/782 [===>..........................] - ETA: 5:09 - loss: 0.4650 - acc: 0.8371"
          ],
          "name": "stdout"
        },
        {
          "output_type": "stream",
          "text": [
            "782/782 [==============================] - 385s 492ms/step - loss: 0.4456 - acc: 0.8454 - val_loss: 0.8463 - val_acc: 0.7653\n",
            "Epoch 3/10\n",
            "213/782 [=======>......................] - ETA: 4:26 - loss: 0.4456 - acc: 0.8446"
          ],
          "name": "stdout"
        },
        {
          "output_type": "stream",
          "text": [
            "782/782 [==============================] - 385s 492ms/step - loss: 0.4398 - acc: 0.8466 - val_loss: 0.7191 - val_acc: 0.7819\n",
            "Epoch 4/10\n",
            "247/782 [========>.....................] - ETA: 4:11 - loss: 0.4256 - acc: 0.8522"
          ],
          "name": "stdout"
        },
        {
          "output_type": "stream",
          "text": [
            "782/782 [==============================] - 386s 493ms/step - loss: 0.4305 - acc: 0.8512 - val_loss: 0.6535 - val_acc: 0.8134\n",
            "Epoch 5/10\n",
            "260/782 [========>.....................] - ETA: 4:04 - loss: 0.4132 - acc: 0.8576"
          ],
          "name": "stdout"
        },
        {
          "output_type": "stream",
          "text": [
            "782/782 [==============================] - 385s 493ms/step - loss: 0.4214 - acc: 0.8547 - val_loss: 0.7150 - val_acc: 0.7887\n",
            "Epoch 6/10\n",
            "265/782 [=========>....................] - ETA: 4:02 - loss: 0.4155 - acc: 0.8571"
          ],
          "name": "stdout"
        },
        {
          "output_type": "stream",
          "text": [
            "782/782 [==============================] - 385s 493ms/step - loss: 0.4160 - acc: 0.8555 - val_loss: 0.5748 - val_acc: 0.8327\n",
            "Epoch 7/10\n",
            "267/782 [=========>....................] - ETA: 4:02 - loss: 0.4155 - acc: 0.8519"
          ],
          "name": "stdout"
        },
        {
          "output_type": "stream",
          "text": [
            "782/782 [==============================] - 386s 493ms/step - loss: 0.4106 - acc: 0.8548 - val_loss: 0.9513 - val_acc: 0.7482\n",
            "Epoch 8/10\n",
            "268/782 [=========>....................] - ETA: 4:00 - loss: 0.4072 - acc: 0.8607"
          ],
          "name": "stdout"
        },
        {
          "output_type": "stream",
          "text": [
            "782/782 [==============================] - 386s 493ms/step - loss: 0.4065 - acc: 0.8600 - val_loss: 0.8104 - val_acc: 0.7750\n",
            "Epoch 9/10\n",
            "268/782 [=========>....................] - ETA: 4:01 - loss: 0.3988 - acc: 0.8605"
          ],
          "name": "stdout"
        },
        {
          "output_type": "stream",
          "text": [
            "782/782 [==============================] - 385s 493ms/step - loss: 0.3987 - acc: 0.8615 - val_loss: 0.6980 - val_acc: 0.7967\n",
            "Epoch 10/10\n",
            "267/782 [=========>....................] - ETA: 4:00 - loss: 0.3879 - acc: 0.8663"
          ],
          "name": "stdout"
        },
        {
          "output_type": "stream",
          "text": [
            "782/782 [==============================] - 384s 491ms/step - loss: 0.3936 - acc: 0.8644 - val_loss: 0.5786 - val_acc: 0.8301\n"
          ],
          "name": "stdout"
        }
      ]
    },
    {
      "metadata": {
        "id": "eQcDGTqzf-QL",
        "colab_type": "code",
        "colab": {
          "autoexec": {
            "startup": false,
            "wait_interval": 0
          }
        }
      },
      "cell_type": "code",
      "source": [
        "from google.colab import files\n",
        "files.download('Dense_model_3.h5')"
      ],
      "execution_count": 0,
      "outputs": []
    },
    {
      "metadata": {
        "id": "0Ub4xVRh9h1J",
        "colab_type": "code",
        "colab": {
          "autoexec": {
            "startup": false,
            "wait_interval": 0
          },
          "base_uri": "https://localhost:8080/",
          "height": 207
        },
        "outputId": "8c3d7993-77be-4353-fd8a-a5db81de195e",
        "executionInfo": {
          "status": "ok",
          "timestamp": 1526377499663,
          "user_tz": -330,
          "elapsed": 1905514,
          "user": {
            "displayName": "Dipesh Patel",
            "photoUrl": "//lh3.googleusercontent.com/-MZFsrKc3QxQ/AAAAAAAAAAI/AAAAAAAAAAo/7gSl7u-epEM/s50-c-k-no/photo.jpg",
            "userId": "112104547976055991892"
          }
        }
      },
      "cell_type": "code",
      "source": [
        "model.fit_generator(datagen.flow(x_train, y_train,\n",
        "                    batch_size=batch_size),\n",
        "                    epochs=5,\n",
        "                    verbose=1,\n",
        "                    validation_data=(x_test, y_test))\n",
        "model.save_weights(\"Dense_model_4.h5\")\n"
      ],
      "execution_count": 0,
      "outputs": [
        {
          "output_type": "stream",
          "text": [
            "Epoch 1/5\n",
            "782/782 [==============================] - 381s 487ms/step - loss: 0.3199 - acc: 0.8886 - val_loss: 0.4828 - val_acc: 0.8594\n",
            "Epoch 2/5\n",
            "127/782 [===>..........................] - ETA: 5:04 - loss: 0.3229 - acc: 0.8848"
          ],
          "name": "stdout"
        },
        {
          "output_type": "stream",
          "text": [
            "782/782 [==============================] - 382s 488ms/step - loss: 0.3218 - acc: 0.8888 - val_loss: 0.4854 - val_acc: 0.8541\n",
            "Epoch 3/5\n",
            "216/782 [=======>......................] - ETA: 4:22 - loss: 0.3131 - acc: 0.8893"
          ],
          "name": "stdout"
        },
        {
          "output_type": "stream",
          "text": [
            "782/782 [==============================] - 381s 487ms/step - loss: 0.3256 - acc: 0.8859 - val_loss: 0.7244 - val_acc: 0.8090\n",
            "Epoch 4/5\n",
            "250/782 [========>.....................] - ETA: 4:05 - loss: 0.3114 - acc: 0.8909"
          ],
          "name": "stdout"
        },
        {
          "output_type": "stream",
          "text": [
            "782/782 [==============================] - 380s 486ms/step - loss: 0.3138 - acc: 0.8904 - val_loss: 0.6021 - val_acc: 0.8364\n",
            "Epoch 5/5\n",
            "262/782 [=========>....................] - ETA: 4:00 - loss: 0.3209 - acc: 0.8873"
          ],
          "name": "stdout"
        },
        {
          "output_type": "stream",
          "text": [
            "782/782 [==============================] - 380s 486ms/step - loss: 0.3150 - acc: 0.8905 - val_loss: 0.4601 - val_acc: 0.8652\n"
          ],
          "name": "stdout"
        }
      ]
    },
    {
      "metadata": {
        "id": "KqpYYpcrK0V9",
        "colab_type": "code",
        "colab": {
          "autoexec": {
            "startup": false,
            "wait_interval": 0
          }
        }
      },
      "cell_type": "code",
      "source": [
        "from google.colab import files\n",
        "files.download('Dense_model_4.h5')"
      ],
      "execution_count": 0,
      "outputs": []
    },
    {
      "metadata": {
        "id": "E2aZsIjhgUE5",
        "colab_type": "code",
        "colab": {
          "autoexec": {
            "startup": false,
            "wait_interval": 0
          },
          "base_uri": "https://localhost:8080/",
          "height": 377
        },
        "outputId": "62055f0b-c243-45f9-82e9-80884305be69",
        "executionInfo": {
          "status": "ok",
          "timestamp": 1526381315218,
          "user_tz": -330,
          "elapsed": 3805305,
          "user": {
            "displayName": "Dipesh Patel",
            "photoUrl": "//lh3.googleusercontent.com/-MZFsrKc3QxQ/AAAAAAAAAAI/AAAAAAAAAAo/7gSl7u-epEM/s50-c-k-no/photo.jpg",
            "userId": "112104547976055991892"
          }
        }
      },
      "cell_type": "code",
      "source": [
        "model.fit_generator(datagen.flow(x_train, y_train,\n",
        "                    batch_size=batch_size),\n",
        "                    epochs=10,\n",
        "                    verbose=1,\n",
        "                    validation_data=(x_test, y_test))\n",
        "model.save_weights(\"Dense_model_5.h5\")\n"
      ],
      "execution_count": 0,
      "outputs": [
        {
          "output_type": "stream",
          "text": [
            "Epoch 1/10\n",
            "782/782 [==============================] - 380s 486ms/step - loss: 0.3078 - acc: 0.8934 - val_loss: 0.6325 - val_acc: 0.8276\n",
            "Epoch 2/10\n",
            "122/782 [===>..........................] - ETA: 5:03 - loss: 0.2951 - acc: 0.8942"
          ],
          "name": "stdout"
        },
        {
          "output_type": "stream",
          "text": [
            "782/782 [==============================] - 380s 485ms/step - loss: 0.3086 - acc: 0.8933 - val_loss: 0.5372 - val_acc: 0.8463\n",
            "Epoch 3/10\n",
            "213/782 [=======>......................] - ETA: 4:22 - loss: 0.3055 - acc: 0.8946"
          ],
          "name": "stdout"
        },
        {
          "output_type": "stream",
          "text": [
            "782/782 [==============================] - 379s 485ms/step - loss: 0.3074 - acc: 0.8936 - val_loss: 0.5322 - val_acc: 0.8489\n",
            "Epoch 4/10\n",
            "247/782 [========>.....................] - ETA: 4:05 - loss: 0.2945 - acc: 0.8968"
          ],
          "name": "stdout"
        },
        {
          "output_type": "stream",
          "text": [
            "782/782 [==============================] - 379s 485ms/step - loss: 0.3040 - acc: 0.8942 - val_loss: 0.4872 - val_acc: 0.8628\n",
            "Epoch 5/10\n",
            "260/782 [========>.....................] - ETA: 4:00 - loss: 0.2973 - acc: 0.8963"
          ],
          "name": "stdout"
        },
        {
          "output_type": "stream",
          "text": [
            "782/782 [==============================] - 379s 485ms/step - loss: 0.3012 - acc: 0.8956 - val_loss: 0.6657 - val_acc: 0.8241\n",
            "Epoch 6/10\n",
            "265/782 [=========>....................] - ETA: 3:58 - loss: 0.2922 - acc: 0.8987"
          ],
          "name": "stdout"
        },
        {
          "output_type": "stream",
          "text": [
            "782/782 [==============================] - 388s 496ms/step - loss: 0.2977 - acc: 0.8967 - val_loss: 0.5717 - val_acc: 0.8381\n",
            "Epoch 7/10\n",
            "267/782 [=========>....................] - ETA: 3:57 - loss: 0.2976 - acc: 0.8958"
          ],
          "name": "stdout"
        },
        {
          "output_type": "stream",
          "text": [
            "782/782 [==============================] - 379s 484ms/step - loss: 0.2995 - acc: 0.8954 - val_loss: 0.4692 - val_acc: 0.8637\n",
            "Epoch 8/10\n",
            "268/782 [=========>....................] - ETA: 3:57 - loss: 0.2875 - acc: 0.8995"
          ],
          "name": "stdout"
        },
        {
          "output_type": "stream",
          "text": [
            "782/782 [==============================] - 380s 486ms/step - loss: 0.2932 - acc: 0.8987 - val_loss: 0.4736 - val_acc: 0.8664\n",
            "Epoch 9/10\n",
            "268/782 [=========>....................] - ETA: 3:56 - loss: 0.2858 - acc: 0.8991"
          ],
          "name": "stdout"
        },
        {
          "output_type": "stream",
          "text": [
            "782/782 [==============================] - 380s 486ms/step - loss: 0.2917 - acc: 0.8971 - val_loss: 0.4415 - val_acc: 0.8703\n",
            "Epoch 10/10\n",
            "267/782 [=========>....................] - ETA: 3:57 - loss: 0.2827 - acc: 0.9004"
          ],
          "name": "stdout"
        },
        {
          "output_type": "stream",
          "text": [
            "782/782 [==============================] - 380s 486ms/step - loss: 0.2913 - acc: 0.8977 - val_loss: 0.5547 - val_acc: 0.8450\n"
          ],
          "name": "stdout"
        }
      ]
    },
    {
      "metadata": {
        "id": "pw-NabB8cmEn",
        "colab_type": "code",
        "colab": {
          "autoexec": {
            "startup": false,
            "wait_interval": 0
          },
          "base_uri": "https://localhost:8080/",
          "height": 1561
        },
        "outputId": "70470914-7fd3-4947-8291-f183576279b4",
        "executionInfo": {
          "status": "error",
          "timestamp": 1526384769871,
          "user_tz": -330,
          "elapsed": 1415436,
          "user": {
            "displayName": "Dipesh Patel",
            "photoUrl": "//lh3.googleusercontent.com/-MZFsrKc3QxQ/AAAAAAAAAAI/AAAAAAAAAAo/7gSl7u-epEM/s50-c-k-no/photo.jpg",
            "userId": "112104547976055991892"
          }
        }
      },
      "cell_type": "code",
      "source": [
        "early = keras.callbacks.EarlyStopping(monitor='val_loss', min_delta=0, patience=0, verbose=0, mode='auto')\n",
        "model.fit_generator(datagen.flow(x_train, y_train,\n",
        "                    batch_size=batch_size),\n",
        "                    epochs=5,\n",
        "                    verbose=1,callbacks=[early],\n",
        "                    validation_data=(x_test, y_test))\n",
        "model.save_weights(\"Dense_model_6.h5\")\n"
      ],
      "execution_count": 0,
      "outputs": [
        {
          "output_type": "stream",
          "text": [
            "Epoch 1/10\n",
            "782/782 [==============================] - 380s 486ms/step - loss: 0.2871 - acc: 0.9000 - val_loss: 0.5546 - val_acc: 0.8443\n",
            "Epoch 2/10\n",
            "122/782 [===>..........................] - ETA: 5:05 - loss: 0.2752 - acc: 0.9043"
          ],
          "name": "stdout"
        },
        {
          "output_type": "stream",
          "text": [
            "782/782 [==============================] - 380s 486ms/step - loss: 0.2827 - acc: 0.9013 - val_loss: 0.4481 - val_acc: 0.8744\n",
            "Epoch 3/10\n",
            "213/782 [=======>......................] - ETA: 4:23 - loss: 0.2791 - acc: 0.9013"
          ],
          "name": "stdout"
        },
        {
          "output_type": "stream",
          "text": [
            "782/782 [==============================] - 380s 486ms/step - loss: 0.2833 - acc: 0.9019 - val_loss: 0.4188 - val_acc: 0.8761\n",
            "Epoch 4/10\n",
            "247/782 [========>.....................] - ETA: 4:07 - loss: 0.2788 - acc: 0.9013"
          ],
          "name": "stdout"
        },
        {
          "output_type": "stream",
          "text": [
            "591/782 [==============================] - 381s 486ms/step - loss: 0.2839 - acc: 0.9017 - val_loss: 0.4348 - val_acc: 0.8754\n"
          ],
          "name": "stdout"
        }
      ]
    },
    {
      "metadata": {
        "id": "ZcWydmIVhZGr",
        "colab_type": "code",
        "colab": {
          "autoexec": {
            "startup": false,
            "wait_interval": 0
          },
          "base_uri": "https://localhost:8080/",
          "height": 68
        },
        "outputId": "26cabdbf-0cb6-425a-aace-7aedbb07e979",
        "executionInfo": {
          "status": "ok",
          "timestamp": 1526384798763,
          "user_tz": -330,
          "elapsed": 24453,
          "user": {
            "displayName": "Dipesh Patel",
            "photoUrl": "//lh3.googleusercontent.com/-MZFsrKc3QxQ/AAAAAAAAAAI/AAAAAAAAAAo/7gSl7u-epEM/s50-c-k-no/photo.jpg",
            "userId": "112104547976055991892"
          }
        }
      },
      "cell_type": "code",
      "source": [
        "# Test the model\n",
        "score = model.evaluate(x_test, y_test, verbose=1)\n",
        "print('Test loss:', score[0])\n",
        "print('Test accuracy:', score[1])"
      ],
      "execution_count": 0,
      "outputs": [
        {
          "output_type": "stream",
          "text": [
            "10000/10000 [==============================] - 23s 2ms/step\n",
            "Test loss: 0.4347574817597866\n",
            "Test accuracy: 0.8754\n"
          ],
          "name": "stdout"
        }
      ]
    },
    {
      "metadata": {
        "id": "UE3lF6EH1r_L",
        "colab_type": "code",
        "colab": {
          "autoexec": {
            "startup": false,
            "wait_interval": 0
          },
          "base_uri": "https://localhost:8080/",
          "height": 34
        },
        "outputId": "e24e5d78-09ff-480e-fe06-6c9e4b2665db",
        "executionInfo": {
          "status": "ok",
          "timestamp": 1525768897824,
          "user_tz": -330,
          "elapsed": 906,
          "user": {
            "displayName": "Dipesh Patel",
            "photoUrl": "//lh3.googleusercontent.com/-MZFsrKc3QxQ/AAAAAAAAAAI/AAAAAAAAAAo/7gSl7u-epEM/s50-c-k-no/photo.jpg",
            "userId": "112104547976055991892"
          }
        }
      },
      "cell_type": "code",
      "source": [
        "# Save the trained weights in to .h5 format\n",
        "model.save_weights(\"DNST_model_final.h5\")\n",
        "print(\"Saved model to disk\")"
      ],
      "execution_count": 0,
      "outputs": [
        {
          "output_type": "stream",
          "text": [
            "Saved model to disk\n"
          ],
          "name": "stdout"
        }
      ]
    },
    {
      "metadata": {
        "id": "ai-yZ2ED5AK1",
        "colab_type": "code",
        "colab": {
          "autoexec": {
            "startup": false,
            "wait_interval": 0
          }
        }
      },
      "cell_type": "code",
      "source": [
        "files.download('DNST_model_final.h5')"
      ],
      "execution_count": 0,
      "outputs": []
    },
    {
      "metadata": {
        "id": "Og56VCRh5j8V",
        "colab_type": "code",
        "colab": {
          "autoexec": {
            "startup": false,
            "wait_interval": 0
          }
        }
      },
      "cell_type": "code",
      "source": [
        ""
      ],
      "execution_count": 0,
      "outputs": []
    }
  ]
}
