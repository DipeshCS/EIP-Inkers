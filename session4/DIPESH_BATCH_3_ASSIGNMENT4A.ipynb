{
  "nbformat": 4,
  "nbformat_minor": 0,
  "metadata": {
    "colab": {
      "name": "DIPESH_BATCH_3_ASSIGNMENT4A.ipynb",
      "version": "0.3.2",
      "views": {},
      "default_view": {},
      "provenance": [
        {
          "file_id": "1gZYwZdkgXBJRr624SqWJ9f452BmKNkNT",
          "timestamp": 1525259072332
        },
        {
          "file_id": "1JURGwe4e5Z7928Zv2eiJVPCQNc702huM",
          "timestamp": 1521864568638
        }
      ],
      "collapsed_sections": []
    },
    "kernelspec": {
      "name": "python3",
      "display_name": "Python 3"
    },
    "accelerator": "GPU"
  },
  "cells": [
    {
      "metadata": {
        "id": "aNyZv-Ec52ot",
        "colab_type": "text"
      },
      "cell_type": "markdown",
      "source": [
        "# **Import Libraries and modules**"
      ]
    },
    {
      "metadata": {
        "id": "3m3w1Cw49Zkt",
        "colab_type": "code",
        "colab": {
          "autoexec": {
            "startup": false,
            "wait_interval": 0
          }
        }
      },
      "cell_type": "code",
      "source": [
        "# https://keras.io/\n",
        "!pip install -q keras\n",
        "import keras"
      ],
      "execution_count": 0,
      "outputs": []
    },
    {
      "metadata": {
        "id": "Eso6UHE080D4",
        "colab_type": "code",
        "colab": {
          "autoexec": {
            "startup": false,
            "wait_interval": 0
          }
        }
      },
      "cell_type": "code",
      "source": [
        "import numpy as np\n",
        "\n",
        "from keras.models import Sequential\n",
        "from keras.layers import Dense, Dropout, Activation, Flatten, Add\n",
        "from keras.layers import Convolution2D, SeparableConv2D\n",
        "from keras.layers import MaxPooling2D, AveragePooling2D\n",
        "from keras.utils import np_utils\n",
        "\n",
        "from keras.datasets import mnist"
      ],
      "execution_count": 0,
      "outputs": []
    },
    {
      "metadata": {
        "id": "zByEi95J86RD",
        "colab_type": "text"
      },
      "cell_type": "markdown",
      "source": [
        "### Load pre-shuffled MNIST data into train and test sets"
      ]
    },
    {
      "metadata": {
        "id": "7eRM0QWN83PV",
        "colab_type": "code",
        "colab": {
          "autoexec": {
            "startup": false,
            "wait_interval": 0
          }
        }
      },
      "cell_type": "code",
      "source": [
        "(X_train, y_train), (X_test, y_test) = mnist.load_data()"
      ],
      "execution_count": 0,
      "outputs": []
    },
    {
      "metadata": {
        "id": "4a4Be72j8-ZC",
        "colab_type": "code",
        "colab": {
          "autoexec": {
            "startup": false,
            "wait_interval": 0
          },
          "base_uri": "https://localhost:8080/",
          "height": 299
        },
        "outputId": "b2b635f0-a2b2-4cba-9dfa-0c362077d09f",
        "executionInfo": {
          "status": "ok",
          "timestamp": 1525324283688,
          "user_tz": -330,
          "elapsed": 875,
          "user": {
            "displayName": "DIPESH PATEL",
            "photoUrl": "https://lh3.googleusercontent.com/a/default-user=s128",
            "userId": "115613243672965059356"
          }
        }
      },
      "cell_type": "code",
      "source": [
        "print (X_train.shape)\n",
        "from matplotlib import pyplot as plt\n",
        "%matplotlib inline\n",
        "plt.imshow(X_train[0])"
      ],
      "execution_count": 25,
      "outputs": [
        {
          "output_type": "stream",
          "text": [
            "(60000, 28, 28)\n"
          ],
          "name": "stdout"
        },
        {
          "output_type": "execute_result",
          "data": {
            "text/plain": [
              "<matplotlib.image.AxesImage at 0x7fbecfee0c88>"
            ]
          },
          "metadata": {
            "tags": []
          },
          "execution_count": 25
        },
        {
          "output_type": "display_data",
          "data": {
            "image/png": "[encoded data removed]",
            "text/plain": [
              "<matplotlib.figure.Figure at 0x7fbecffd9470>"
            ]
          },
          "metadata": {
            "tags": []
          }
        }
      ]
    },
    {
      "metadata": {
        "id": "dkmprriw9AnZ",
        "colab_type": "code",
        "colab": {
          "autoexec": {
            "startup": false,
            "wait_interval": 0
          }
        }
      },
      "cell_type": "code",
      "source": [
        "X_train = X_train.reshape(X_train.shape[0], 28, 28,1)\n",
        "X_test = X_test.reshape(X_test.shape[0], 28, 28,1)"
      ],
      "execution_count": 0,
      "outputs": []
    },
    {
      "metadata": {
        "id": "X2m4YS4E9CRh",
        "colab_type": "code",
        "colab": {
          "autoexec": {
            "startup": false,
            "wait_interval": 0
          }
        }
      },
      "cell_type": "code",
      "source": [
        "X_train = X_train.astype('float32')\n",
        "X_test = X_test.astype('float32')\n",
        "X_train /= 255\n",
        "X_test /= 255"
      ],
      "execution_count": 0,
      "outputs": []
    },
    {
      "metadata": {
        "id": "0Mn0vAYD9DvB",
        "colab_type": "code",
        "colab": {
          "autoexec": {
            "startup": false,
            "wait_interval": 0
          },
          "base_uri": "https://localhost:8080/",
          "height": 34
        },
        "outputId": "2b9e545f-e6ad-44e2-dfb7-ea19ac47ef91",
        "executionInfo": {
          "status": "ok",
          "timestamp": 1525324286545,
          "user_tz": -330,
          "elapsed": 1065,
          "user": {
            "displayName": "DIPESH PATEL",
            "photoUrl": "https://lh3.googleusercontent.com/a/default-user=s128",
            "userId": "115613243672965059356"
          }
        }
      },
      "cell_type": "code",
      "source": [
        "y_train[:10]"
      ],
      "execution_count": 28,
      "outputs": [
        {
          "output_type": "execute_result",
          "data": {
            "text/plain": [
              "array([5, 0, 4, 1, 9, 2, 1, 3, 1, 4], dtype=uint8)"
            ]
          },
          "metadata": {
            "tags": []
          },
          "execution_count": 28
        }
      ]
    },
    {
      "metadata": {
        "id": "ZG8JiXR39FHC",
        "colab_type": "code",
        "colab": {
          "autoexec": {
            "startup": false,
            "wait_interval": 0
          }
        }
      },
      "cell_type": "code",
      "source": [
        "# Convert 1-dimensional class arrays to 10-dimensional class matrices\n",
        "Y_train = np_utils.to_categorical(y_train, 10)\n",
        "Y_test = np_utils.to_categorical(y_test, 10)"
      ],
      "execution_count": 0,
      "outputs": []
    },
    {
      "metadata": {
        "id": "fYlFRvKS9HMB",
        "colab_type": "code",
        "colab": {
          "autoexec": {
            "startup": false,
            "wait_interval": 0
          },
          "base_uri": "https://localhost:8080/",
          "height": 187
        },
        "outputId": "8fe40a0d-758a-4dbc-c8af-eefabaa8e525",
        "executionInfo": {
          "status": "ok",
          "timestamp": 1525324288253,
          "user_tz": -330,
          "elapsed": 824,
          "user": {
            "displayName": "DIPESH PATEL",
            "photoUrl": "https://lh3.googleusercontent.com/a/default-user=s128",
            "userId": "115613243672965059356"
          }
        }
      },
      "cell_type": "code",
      "source": [
        "Y_train[:10]\n"
      ],
      "execution_count": 30,
      "outputs": [
        {
          "output_type": "execute_result",
          "data": {
            "text/plain": [
              "array([[0., 0., 0., 0., 0., 1., 0., 0., 0., 0.],\n",
              "       [1., 0., 0., 0., 0., 0., 0., 0., 0., 0.],\n",
              "       [0., 0., 0., 0., 1., 0., 0., 0., 0., 0.],\n",
              "       [0., 1., 0., 0., 0., 0., 0., 0., 0., 0.],\n",
              "       [0., 0., 0., 0., 0., 0., 0., 0., 0., 1.],\n",
              "       [0., 0., 1., 0., 0., 0., 0., 0., 0., 0.],\n",
              "       [0., 1., 0., 0., 0., 0., 0., 0., 0., 0.],\n",
              "       [0., 0., 0., 1., 0., 0., 0., 0., 0., 0.],\n",
              "       [0., 1., 0., 0., 0., 0., 0., 0., 0., 0.],\n",
              "       [0., 0., 0., 0., 1., 0., 0., 0., 0., 0.]], dtype=float32)"
            ]
          },
          "metadata": {
            "tags": []
          },
          "execution_count": 30
        }
      ]
    },
    {
      "metadata": {
        "id": "osKqT73Q9JJB",
        "colab_type": "code",
        "colab": {
          "autoexec": {
            "startup": false,
            "wait_interval": 0
          },
          "base_uri": "https://localhost:8080/",
          "height": 241
        },
        "outputId": "68c9c4ef-8544-4e21-93e3-46dba77b85f1",
        "executionInfo": {
          "status": "ok",
          "timestamp": 1525340023422,
          "user_tz": -330,
          "elapsed": 860,
          "user": {
            "displayName": "DIPESH PATEL",
            "photoUrl": "https://lh3.googleusercontent.com/a/default-user=s128",
            "userId": "115613243672965059356"
          }
        }
      },
      "cell_type": "code",
      "source": [
        "from keras.layers import Activation\n",
        "model = Sequential()\n",
        "\n",
        " \n",
        "model.add(SeparableConv2D(16, 3, 3, activation='relu', input_shape=(28,28,1)))\n",
        "model.add(SeparableConv2D(32, 3, 3, activation='relu'))\n",
        "model.add(SeparableConv2D(64, 3, 3, activation='relu'))\n",
        "model.add(SeparableConv2D(96, 3, 3, activation='relu'))\n",
        "model.add(AveragePooling2D(pool_size=(2, 2), strides=None, padding='valid'))\n",
        "model.add(SeparableConv2D(128, 3, 3, activation='relu'))\n",
        "model.add(SeparableConv2D(192, 3, 3, activation='relu'))\n",
        "model.add(Convolution2D(10, 1))\n",
        "model.add(Convolution2D(10, 6))\n",
        "model.add(Flatten())\n",
        "model.add(Activation('softmax'))\n",
        "#model.add(Dense(10, activation = 'softmax'))"
      ],
      "execution_count": 203,
      "outputs": [
        {
          "output_type": "stream",
          "text": [
            "/usr/local/lib/python3.6/dist-packages/ipykernel_launcher.py:5: UserWarning: Update your `SeparableConv2D` call to the Keras 2 API: `SeparableConv2D(16, (3, 3), activation=\"relu\", input_shape=(28, 28, 1...)`\n",
            "  \"\"\"\n",
            "/usr/local/lib/python3.6/dist-packages/ipykernel_launcher.py:6: UserWarning: Update your `SeparableConv2D` call to the Keras 2 API: `SeparableConv2D(32, (3, 3), activation=\"relu\")`\n",
            "  \n",
            "/usr/local/lib/python3.6/dist-packages/ipykernel_launcher.py:7: UserWarning: Update your `SeparableConv2D` call to the Keras 2 API: `SeparableConv2D(64, (3, 3), activation=\"relu\")`\n",
            "  import sys\n",
            "/usr/local/lib/python3.6/dist-packages/ipykernel_launcher.py:8: UserWarning: Update your `SeparableConv2D` call to the Keras 2 API: `SeparableConv2D(96, (3, 3), activation=\"relu\")`\n",
            "  \n",
            "/usr/local/lib/python3.6/dist-packages/ipykernel_launcher.py:10: UserWarning: Update your `SeparableConv2D` call to the Keras 2 API: `SeparableConv2D(128, (3, 3), activation=\"relu\")`\n",
            "  # Remove the CWD from sys.path while we load stuff.\n",
            "/usr/local/lib/python3.6/dist-packages/ipykernel_launcher.py:11: UserWarning: Update your `SeparableConv2D` call to the Keras 2 API: `SeparableConv2D(192, (3, 3), activation=\"relu\")`\n",
            "  # This is added back by InteractiveShellApp.init_path()\n"
          ],
          "name": "stderr"
        }
      ]
    },
    {
      "metadata": {
        "id": "TzdAYg1k9K7Z",
        "colab_type": "code",
        "colab": {
          "autoexec": {
            "startup": false,
            "wait_interval": 0
          },
          "base_uri": "https://localhost:8080/",
          "height": 510
        },
        "outputId": "6df0842f-3c70-4fea-e781-2adcd4eb8b21",
        "executionInfo": {
          "status": "ok",
          "timestamp": 1525340026358,
          "user_tz": -330,
          "elapsed": 826,
          "user": {
            "displayName": "DIPESH PATEL",
            "photoUrl": "https://lh3.googleusercontent.com/a/default-user=s128",
            "userId": "115613243672965059356"
          }
        }
      },
      "cell_type": "code",
      "source": [
        "model.summary()"
      ],
      "execution_count": 204,
      "outputs": [
        {
          "output_type": "stream",
          "text": [
            "_________________________________________________________________\n",
            "Layer (type)                 Output Shape              Param #   \n",
            "=================================================================\n",
            "separable_conv2d_176 (Separa (None, 26, 26, 16)        41        \n",
            "_________________________________________________________________\n",
            "separable_conv2d_177 (Separa (None, 24, 24, 32)        688       \n",
            "_________________________________________________________________\n",
            "separable_conv2d_178 (Separa (None, 22, 22, 64)        2400      \n",
            "_________________________________________________________________\n",
            "separable_conv2d_179 (Separa (None, 20, 20, 96)        6816      \n",
            "_________________________________________________________________\n",
            "average_pooling2d_37 (Averag (None, 10, 10, 96)        0         \n",
            "_________________________________________________________________\n",
            "separable_conv2d_180 (Separa (None, 8, 8, 128)         13280     \n",
            "_________________________________________________________________\n",
            "separable_conv2d_181 (Separa (None, 6, 6, 192)         25920     \n",
            "_________________________________________________________________\n",
            "conv2d_74 (Conv2D)           (None, 6, 6, 10)          1930      \n",
            "_________________________________________________________________\n",
            "conv2d_75 (Conv2D)           (None, 1, 1, 10)          3610      \n",
            "_________________________________________________________________\n",
            "flatten_36 (Flatten)         (None, 10)                0         \n",
            "_________________________________________________________________\n",
            "activation_36 (Activation)   (None, 10)                0         \n",
            "=================================================================\n",
            "Total params: 54,685\n",
            "Trainable params: 54,685\n",
            "Non-trainable params: 0\n",
            "_________________________________________________________________\n"
          ],
          "name": "stdout"
        }
      ]
    },
    {
      "metadata": {
        "id": "Zp6SuGrL9M3h",
        "colab_type": "code",
        "colab": {
          "autoexec": {
            "startup": false,
            "wait_interval": 0
          }
        }
      },
      "cell_type": "code",
      "source": [
        "model.compile(loss='categorical_crossentropy',\n",
        "             optimizer='adam',\n",
        "             metrics=['accuracy'])"
      ],
      "execution_count": 0,
      "outputs": []
    },
    {
      "metadata": {
        "id": "4xWoKhPY9Of5",
        "colab_type": "code",
        "colab": {
          "autoexec": {
            "startup": false,
            "wait_interval": 0
          },
          "base_uri": "https://localhost:8080/",
          "height": 428
        },
        "outputId": "031bff57-f4e9-40d7-91af-741595aec6aa",
        "executionInfo": {
          "status": "ok",
          "timestamp": 1525340516966,
          "user_tz": -330,
          "elapsed": 488365,
          "user": {
            "displayName": "DIPESH PATEL",
            "photoUrl": "https://lh3.googleusercontent.com/a/default-user=s128",
            "userId": "115613243672965059356"
          }
        }
      },
      "cell_type": "code",
      "source": [
        "model.fit(X_train, Y_train, batch_size=32, nb_epoch=10, verbose=1)"
      ],
      "execution_count": 206,
      "outputs": [
        {
          "output_type": "stream",
          "text": [
            "/usr/local/lib/python3.6/dist-packages/keras/models.py:981: UserWarning: The `nb_epoch` argument in `fit` has been renamed `epochs`.\n",
            "  warnings.warn('The `nb_epoch` argument in `fit` '\n"
          ],
          "name": "stderr"
        },
        {
          "output_type": "stream",
          "text": [
            "Epoch 1/10\n",
            "60000/60000 [==============================] - 53s 879us/step - loss: 0.3063 - acc: 0.8996\n",
            "Epoch 2/10\n",
            " 6784/60000 [==>...........................] - ETA: 42s - loss: 0.1008 - acc: 0.9695"
          ],
          "name": "stdout"
        },
        {
          "output_type": "stream",
          "text": [
            "60000/60000 [==============================] - 48s 807us/step - loss: 0.0834 - acc: 0.9741\n",
            "Epoch 3/10\n",
            "13568/60000 [=====>........................] - ETA: 37s - loss: 0.0655 - acc: 0.9786"
          ],
          "name": "stdout"
        },
        {
          "output_type": "stream",
          "text": [
            "60000/60000 [==============================] - 48s 805us/step - loss: 0.0625 - acc: 0.9808\n",
            "Epoch 4/10\n",
            "18240/60000 [========>.....................] - ETA: 33s - loss: 0.0514 - acc: 0.9843"
          ],
          "name": "stdout"
        },
        {
          "output_type": "stream",
          "text": [
            "60000/60000 [==============================] - 48s 805us/step - loss: 0.0501 - acc: 0.9846\n",
            "Epoch 5/10\n",
            "19264/60000 [========>.....................] - ETA: 32s - loss: 0.0422 - acc: 0.9863"
          ],
          "name": "stdout"
        },
        {
          "output_type": "stream",
          "text": [
            "60000/60000 [==============================] - 48s 803us/step - loss: 0.0421 - acc: 0.9866\n",
            "Epoch 6/10\n",
            "20064/60000 [=========>....................] - ETA: 31s - loss: 0.0325 - acc: 0.9896"
          ],
          "name": "stdout"
        },
        {
          "output_type": "stream",
          "text": [
            "60000/60000 [==============================] - 48s 799us/step - loss: 0.0352 - acc: 0.9889\n",
            "Epoch 7/10\n",
            "20000/60000 [=========>....................] - ETA: 32s - loss: 0.0308 - acc: 0.9901"
          ],
          "name": "stdout"
        },
        {
          "output_type": "stream",
          "text": [
            "60000/60000 [==============================] - 49s 810us/step - loss: 0.0313 - acc: 0.9895\n",
            "Epoch 8/10\n",
            "20416/60000 [=========>....................] - ETA: 31s - loss: 0.0240 - acc: 0.9920"
          ],
          "name": "stdout"
        },
        {
          "output_type": "stream",
          "text": [
            "60000/60000 [==============================] - 48s 803us/step - loss: 0.0264 - acc: 0.9911\n",
            "Epoch 9/10\n",
            "20352/60000 [=========>....................] - ETA: 31s - loss: 0.0252 - acc: 0.9913"
          ],
          "name": "stdout"
        },
        {
          "output_type": "stream",
          "text": [
            "60000/60000 [==============================] - 48s 801us/step - loss: 0.0237 - acc: 0.9924\n",
            "Epoch 10/10\n",
            "20768/60000 [=========>....................] - ETA: 31s - loss: 0.0200 - acc: 0.9934"
          ],
          "name": "stdout"
        },
        {
          "output_type": "stream",
          "text": [
            "60000/60000 [==============================] - 48s 798us/step - loss: 0.0214 - acc: 0.9932\n"
          ],
          "name": "stdout"
        },
        {
          "output_type": "execute_result",
          "data": {
            "text/plain": [
              "<keras.callbacks.History at 0x7fbea72915c0>"
            ]
          },
          "metadata": {
            "tags": []
          },
          "execution_count": 206
        }
      ]
    },
    {
      "metadata": {
        "id": "AtsH-lLk-eLb",
        "colab_type": "code",
        "colab": {
          "autoexec": {
            "startup": false,
            "wait_interval": 0
          }
        }
      },
      "cell_type": "code",
      "source": [
        "score = model.evaluate(X_test, Y_test, verbose=0)"
      ],
      "execution_count": 0,
      "outputs": []
    },
    {
      "metadata": {
        "id": "mkX8JMv79q9r",
        "colab_type": "code",
        "colab": {
          "autoexec": {
            "startup": false,
            "wait_interval": 0
          },
          "base_uri": "https://localhost:8080/",
          "height": 34
        },
        "outputId": "a0c0bb3e-30e1-4430-99f1-74714847836d",
        "executionInfo": {
          "status": "ok",
          "timestamp": 1525340656824,
          "user_tz": -330,
          "elapsed": 864,
          "user": {
            "displayName": "DIPESH PATEL",
            "photoUrl": "https://lh3.googleusercontent.com/a/default-user=s128",
            "userId": "115613243672965059356"
          }
        }
      },
      "cell_type": "code",
      "source": [
        "print(score)"
      ],
      "execution_count": 208,
      "outputs": [
        {
          "output_type": "stream",
          "text": [
            "[0.028157016608602134, 0.9917]\n"
          ],
          "name": "stdout"
        }
      ]
    },
    {
      "metadata": {
        "id": "OCWoJkwE9suh",
        "colab_type": "code",
        "colab": {
          "autoexec": {
            "startup": false,
            "wait_interval": 0
          }
        }
      },
      "cell_type": "code",
      "source": [
        "y_pred = model.predict(X_test)"
      ],
      "execution_count": 0,
      "outputs": []
    },
    {
      "metadata": {
        "id": "Ym7iCFBm9uBs",
        "colab_type": "code",
        "colab": {
          "autoexec": {
            "startup": false,
            "wait_interval": 0
          },
          "base_uri": "https://localhost:8080/",
          "height": 493
        },
        "outputId": "07aaa1eb-328c-40c6-bf4b-bac32073b56b",
        "executionInfo": {
          "status": "ok",
          "timestamp": 1525339455527,
          "user_tz": -330,
          "elapsed": 884,
          "user": {
            "displayName": "DIPESH PATEL",
            "photoUrl": "https://lh3.googleusercontent.com/a/default-user=s128",
            "userId": "115613243672965059356"
          }
        }
      },
      "cell_type": "code",
      "source": [
        "print(y_pred[:9])\n",
        "print(y_test[:9])"
      ],
      "execution_count": 196,
      "outputs": [
        {
          "output_type": "stream",
          "text": [
            "[[8.33973793e-11 3.67362163e-09 2.03579339e-06 4.76152309e-06\n",
            "  1.41320801e-11 1.14267961e-11 1.23266651e-15 9.99993205e-01\n",
            "  6.33640518e-09 2.22350796e-08]\n",
            " [1.18211133e-07 5.88961413e-09 9.99999762e-01 1.78237650e-11\n",
            "  1.53307800e-09 1.32097245e-14 1.00010496e-07 1.82395252e-10\n",
            "  2.78482259e-09 1.63243627e-12]\n",
            " [1.88462752e-06 9.99950886e-01 3.31370643e-07 1.10791589e-07\n",
            "  2.37121203e-05 6.94841091e-08 9.67828555e-07 1.93768901e-05\n",
            "  2.46625700e-06 1.33615558e-07]\n",
            " [9.99977708e-01 1.28750621e-11 6.54398047e-09 1.13088383e-08\n",
            "  1.90974476e-11 7.37368033e-09 1.12969237e-05 9.00952576e-12\n",
            "  1.08974855e-05 6.24973424e-08]\n",
            " [2.60356181e-10 3.78340337e-09 1.80796229e-11 1.04171560e-09\n",
            "  9.99920964e-01 1.46102297e-10 1.02675841e-07 3.05659120e-09\n",
            "  1.97802930e-08 7.89324331e-05]\n",
            " [6.62321725e-07 9.99944568e-01 2.23903868e-07 4.57743266e-09\n",
            "  2.46879845e-05 5.36224620e-10 7.05960517e-08 2.86435879e-05\n",
            "  1.00567581e-06 9.71622853e-08]\n",
            " [2.34627923e-14 1.79726015e-07 7.53772045e-11 1.32920383e-10\n",
            "  9.99986053e-01 3.48067658e-10 2.63010898e-11 3.75034190e-08\n",
            "  1.09253388e-05 2.78007315e-06]\n",
            " [3.52115812e-08 2.94180813e-06 1.90933843e-05 1.67859362e-05\n",
            "  4.66185127e-04 7.74447301e-07 1.58673949e-10 2.05945753e-06\n",
            "  3.78465802e-06 9.99488235e-01]\n",
            " [1.12129674e-08 4.26293757e-11 4.31029462e-10 1.43536599e-10\n",
            "  1.28215564e-14 7.26776600e-01 2.73157388e-01 5.54620976e-12\n",
            "  6.52950548e-05 7.49072740e-07]]\n",
            "[7 2 1 0 4 1 4 9 5]\n"
          ],
          "name": "stdout"
        }
      ]
    },
    {
      "metadata": {
        "id": "CT--y98_dr2T",
        "colab_type": "code",
        "colab": {
          "autoexec": {
            "startup": false,
            "wait_interval": 0
          }
        }
      },
      "cell_type": "code",
      "source": [
        "layer_dict = dict([(layer.name, layer) for layer in model.layers])"
      ],
      "execution_count": 0,
      "outputs": []
    },
    {
      "metadata": {
        "id": "2GY4Upv4dsUR",
        "colab_type": "code",
        "colab": {
          "autoexec": {
            "startup": false,
            "wait_interval": 0
          },
          "base_uri": "https://localhost:8080/",
          "height": 869
        },
        "outputId": "acfae988-4b13-4ef3-8fac-7ecaec9e5fd3",
        "executionInfo": {
          "status": "ok",
          "timestamp": 1525324165162,
          "user_tz": -330,
          "elapsed": 30603,
          "user": {
            "displayName": "DIPESH PATEL",
            "photoUrl": "https://lh3.googleusercontent.com/a/default-user=s128",
            "userId": "115613243672965059356"
          }
        }
      },
      "cell_type": "code",
      "source": [
        "import numpy as np\n",
        "from matplotlib import pyplot as plt\n",
        "from keras import backend as K\n",
        "%matplotlib inline\n",
        "# util function to convert a tensor into a valid image\n",
        "def deprocess_image(x):\n",
        "    # normalize tensor: center on 0., ensure std is 0.1\n",
        "    x -= x.mean()\n",
        "    x /= (x.std() + 1e-5)\n",
        "    x *= 0.1\n",
        "\n",
        "    # clip to [0, 1]\n",
        "    x += 0.5\n",
        "    x = np.clip(x, 0, 1)\n",
        "\n",
        "    # convert to RGB array\n",
        "    x *= 255\n",
        "    #x = x.transpose((1, 2, 0))\n",
        "    x = np.clip(x, 0, 255).astype('uint8')\n",
        "    return x\n",
        "\n",
        "def vis_img_in_filter(img = np.array(X_train[2]).reshape((1, 28, 28, 1)).astype(np.float64), \n",
        "                      layer_name = 'separable_conv2d_6'):\n",
        "    layer_output = layer_dict[layer_name].output\n",
        "    img_ascs = list()\n",
        "    for filter_index in range(layer_output.shape[3]):\n",
        "        # build a loss function that maximizes the activation\n",
        "        # of the nth filter of the layer considered\n",
        "        loss = K.mean(layer_output[:, :, :, filter_index])\n",
        "\n",
        "        # compute the gradient of the input picture wrt this loss\n",
        "        grads = K.gradients(loss, model.input)[0]\n",
        "\n",
        "        # normalization trick: we normalize the gradient\n",
        "        grads /= (K.sqrt(K.mean(K.square(grads))) + 1e-5)\n",
        "\n",
        "        # this function returns the loss and grads given the input picture\n",
        "        iterate = K.function([model.input], [loss, grads])\n",
        "\n",
        "        # step size for gradient ascent\n",
        "        step = 5.\n",
        "\n",
        "        img_asc = np.array(img)\n",
        "        # run gradient ascent for 20 steps\n",
        "        for i in range(20):\n",
        "            loss_value, grads_value = iterate([img_asc])\n",
        "            img_asc += grads_value * step\n",
        "\n",
        "        img_asc = img_asc[0]\n",
        "        img_ascs.append(deprocess_image(img_asc).reshape((28, 28)))\n",
        "        \n",
        "    if layer_output.shape[3] >= 35:\n",
        "        plot_x, plot_y = 6, 6\n",
        "    elif layer_output.shape[3] >= 23:\n",
        "        plot_x, plot_y = 4, 6\n",
        "    elif layer_output.shape[3] >= 11:\n",
        "        plot_x, plot_y = 2, 6\n",
        "    else:\n",
        "        plot_x, plot_y = 1, 2\n",
        "    fig, ax = plt.subplots(plot_x, plot_y, figsize = (12, 12))\n",
        "    ax[0, 0].imshow(img.reshape((28, 28)), cmap = 'gray')\n",
        "    ax[0, 0].set_title('Input image')\n",
        "    fig.suptitle('Input image and %s filters' % (layer_name,))\n",
        "    fig.tight_layout(pad = 0.3, rect = [0, 0, 0.9, 0.9])\n",
        "    for (x, y) in [(i, j) for i in range(plot_x) for j in range(plot_y)]:\n",
        "        if x == 0 and y == 0:\n",
        "            continue\n",
        "        ax[x, y].imshow(img_ascs[x * plot_y + y - 1], cmap = 'gray')\n",
        "        ax[x, y].set_title('filter %d' % (x * plot_y + y - 1))\n",
        "\n",
        "vis_img_in_filter()"
      ],
      "execution_count": 21,
      "outputs": [
        {
          "output_type": "display_data",
          "data": {
            "image/png": "[encoded data removed]",
            "text/plain": [
              "<matplotlib.figure.Figure at 0x7fbed1076eb8>"
            ]
          },
          "metadata": {
            "tags": []
          }
        }
      ]
    },
    {
      "metadata": {
        "id": "9tvptcn8dxvp",
        "colab_type": "code",
        "colab": {
          "autoexec": {
            "startup": false,
            "wait_interval": 0
          }
        }
      },
      "cell_type": "code",
      "source": [
        ""
      ],
      "execution_count": 0,
      "outputs": []
    }
  ]
}